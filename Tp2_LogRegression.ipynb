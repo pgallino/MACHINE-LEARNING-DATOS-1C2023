{
  "nbformat": 4,
  "nbformat_minor": 0,
  "metadata": {
    "colab": {
      "provenance": [],
      "collapsed_sections": [
        "nWozTK801Ur2",
        "TPYWjpHsVoLQ",
        "WZWhAiVOtj-A",
        "ZBuStomnuSAH",
        "rZYKY2tgCArs",
        "v-sVH6P1AfGI",
        "xYI2_pWVz7hJ",
        "Kwc2AoB7-RxY",
        "74CB7OSjJgBd",
        "skPFiG4bMbTF",
        "shV1VXmRTH3L",
        "JkFKWtELUUoa",
        "e5H4fLB6UpMg",
        "MUEnEKON0l0i",
        "lQ1tgBOf12Qv",
        "E8XzpX_c2fyw",
        "qFnkh2sqy1Hk",
        "D8CRYWfohHrk",
        "REBXuzj-_RK3",
        "z4B9KUZ6R3E8"
      ],
      "authorship_tag": "ABX9TyNQen5jD5ELjTLE1rVGYcTI",
      "include_colab_link": true
    },
    "kernelspec": {
      "name": "python3",
      "display_name": "Python 3"
    },
    "language_info": {
      "name": "python"
    }
  },
  "cells": [
    {
      "cell_type": "markdown",
      "metadata": {
        "id": "view-in-github",
        "colab_type": "text"
      },
      "source": [
        "<a href=\"https://colab.research.google.com/github/pgallino/TP2-Organizacion-de-datos-7506-1C2023-Machine-Learning-/blob/main/Tp2_LogRegression.ipynb\" target=\"_parent\"><img src=\"https://colab.research.google.com/assets/colab-badge.svg\" alt=\"Open In Colab\"/></a>"
      ]
    },
    {
      "cell_type": "markdown",
      "source": [
        "**TRABAJO PRÁCTICO 2 - MACHINE LEARNING**\n",
        "\n",
        "🟧 *SEPARACIÓN DE LOS DATOS* 🟧\n",
        "\n",
        "En general, lo más adecuado es separar el dataset en 80% \"train\", 10% \"validation\" y 10% \"test\". En \"train\" se entrenan los datos, en \"validation\" se ajustan los hiperparámetros y encoding, y en \"test\" damos el resultado final.\n",
        "\n",
        "En este trabajo, al utilizar RandomizedSearchCV sobre \"train\", no fue necesario disponer de \"validation\". RandomizedSearchCV se basa en K-Fold Cross Validation, con el enfoque Random-Search. K-Fold Cross Validation, sobre X_train obtiene los hiperparámetros óptimos.\n",
        "\n",
        "Si decidiese testear por mi cuenta distintos hiperparámetros, debería contar con la separación \"validation\" y en ella ver los distintos resultados, para quedarme con la mejor combinación.\n",
        "\n",
        "Por este motivo, los datos se separaron en \"train\" 80% y \"test\" 20%.\n",
        "\n",
        "🟧 *FEATURE ENGINEERING* 🟧\n",
        "\n",
        "Al contar con features categóricos, tuve que codificarlos.\n",
        "\n",
        "Para ello apliqué One Hot Encoding, Binary Encoding y Mean Encoding con el siguiente criterio:\n",
        "\n",
        "-Si el feature tiene muchas categorias -> Binary Encoding.\n",
        "\n",
        "-Si el feature tiene pocas categorias -> One Hot Encoding.\n",
        "\n",
        "-Como Mean Encoding no me genera mucha confianza (por el posible filtrado del target), solo lo apliqué una vez, a pedido de la consigna. El feature codificado bajo Mean Encoding se encuentra apartado en el final de la sección para poder correrlo con Binary Encoding en caso de quererlo (da mejor resultado).\n",
        "\n",
        "Además para la inputación de NaNs utilicé el siguiente criterio:\n",
        "\n",
        "-Si falta más del 50% de los datos -> relleno con una clase extra\n",
        "\n",
        "-Si falta menos del 50% de los datos -> relleno con la clase más frecuente\n",
        "\n",
        "-Si los Nans tienen sentido, haya los que haya -> relleno con clase extra para representarlos como categoría.\n",
        "\n",
        "\n",
        "🟧 *BÚSQUEDA DE HIPERPARÁMETROS* 🟧\n",
        "\n",
        "Como ya se aclaró, se utiliza RandomizedSearchCV.\n",
        "La realidad es que con los hiperparámetros por default, los resultados finales son muy buenos. Por lo que tal vez, utilizar RandomizedSearchCV puede llegar a ser trabajo extra.\n",
        "\n",
        "🟧 *RESULTADOS* 🟧\n",
        "\n",
        "Se aplican distintas métricas sobre \"test\" y se grafican resultados.\n",
        "Además se compara el modelo con otros, utilizando el mismo encoding y separación de datos."
      ],
      "metadata": {
        "id": "dQVOh11tWflV"
      }
    },
    {
      "cell_type": "markdown",
      "source": [
        "🟦 En todos los modelos hago el encoding como si fuese la parte 4 del trabajo, para poder compararlos 🟦\n",
        "\n"
      ],
      "metadata": {
        "id": "7mFBHkmNp9Rw"
      }
    },
    {
      "cell_type": "markdown",
      "source": [
        "# **SEPARO EL DATAFRAME EN TRAIN Y TEST**"
      ],
      "metadata": {
        "id": "_xYvBqsFztkw"
      }
    },
    {
      "cell_type": "code",
      "execution_count": null,
      "metadata": {
        "id": "cL7C9k672P9B",
        "colab": {
          "base_uri": "https://localhost:8080/",
          "height": 525
        },
        "outputId": "a9bb8032-ae8b-4d6f-d6b6-4699a92b16fe"
      },
      "outputs": [
        {
          "output_type": "stream",
          "name": "stdout",
          "text": [
            "Drive already mounted at /content/drive; to attempt to forcibly remount, call drive.mount(\"/content/drive\", force_remount=True).\n"
          ]
        },
        {
          "output_type": "execute_result",
          "data": {
            "text/plain": [
              "  class  capdiameter- cap-shape cap-surface cap-color does-bruise-or-bleed  \\\n",
              "0     p         15.26         x           g         o                    f   \n",
              "1     p         16.60         x           g         o                    f   \n",
              "2     p         14.07         x           g         o                    f   \n",
              "3     p         14.17         f           h         e                    f   \n",
              "4     p         14.64         x           h         o                    f   \n",
              "5     p         15.34         x           g         o                    f   \n",
              "6     p         14.85         f           h         o                    f   \n",
              "7     p         14.86         x           h         e                    f   \n",
              "8     p         12.85         f           g         o                    f   \n",
              "9     p         13.55         f           g         e                    f   \n",
              "\n",
              "  gill-attachment gill-spacing gill-color  stem-height  ...  stem-root  \\\n",
              "0               e          NaN          w        16.95  ...          s   \n",
              "1               e          NaN          w        17.99  ...          s   \n",
              "2               e          NaN          w        17.80  ...          s   \n",
              "3               e          NaN          w        15.77  ...          s   \n",
              "4               e          NaN          w        16.53  ...          s   \n",
              "5               e          NaN          w        17.84  ...          s   \n",
              "6               e          NaN          w        17.71  ...          s   \n",
              "7               e          NaN          w        17.03  ...          s   \n",
              "8               e          NaN          w        17.27  ...          s   \n",
              "9               e          NaN          w        16.04  ...          s   \n",
              "\n",
              "  stem-surface stem-color veil-type veil-color has-ring ring-type  \\\n",
              "0            y          w         u          w        t         g   \n",
              "1            y          w         u          w        t         g   \n",
              "2            y          w         u          w        t         g   \n",
              "3            y          w         u          w        t         p   \n",
              "4            y          w         u          w        t         p   \n",
              "5            y          w         u          w        t         p   \n",
              "6            y          w         u          w        t         g   \n",
              "7            y          w         u          w        t         p   \n",
              "8            y          w         u          w        t         p   \n",
              "9            y          w         u          w        t         p   \n",
              "\n",
              "  spore-print-color habitat season  \n",
              "0               NaN       d      w  \n",
              "1               NaN       d      u  \n",
              "2               NaN       d      w  \n",
              "3               NaN       d      w  \n",
              "4               NaN       d      w  \n",
              "5               NaN       d      u  \n",
              "6               NaN       d      w  \n",
              "7               NaN       d      u  \n",
              "8               NaN       d      a  \n",
              "9               NaN       d      w  \n",
              "\n",
              "[10 rows x 21 columns]"
            ],
            "text/html": [
              "\n",
              "  <div id=\"df-648379f6-7e11-46c5-8851-628124bf5d88\">\n",
              "    <div class=\"colab-df-container\">\n",
              "      <div>\n",
              "<style scoped>\n",
              "    .dataframe tbody tr th:only-of-type {\n",
              "        vertical-align: middle;\n",
              "    }\n",
              "\n",
              "    .dataframe tbody tr th {\n",
              "        vertical-align: top;\n",
              "    }\n",
              "\n",
              "    .dataframe thead th {\n",
              "        text-align: right;\n",
              "    }\n",
              "</style>\n",
              "<table border=\"1\" class=\"dataframe\">\n",
              "  <thead>\n",
              "    <tr style=\"text-align: right;\">\n",
              "      <th></th>\n",
              "      <th>class</th>\n",
              "      <th>capdiameter-</th>\n",
              "      <th>cap-shape</th>\n",
              "      <th>cap-surface</th>\n",
              "      <th>cap-color</th>\n",
              "      <th>does-bruise-or-bleed</th>\n",
              "      <th>gill-attachment</th>\n",
              "      <th>gill-spacing</th>\n",
              "      <th>gill-color</th>\n",
              "      <th>stem-height</th>\n",
              "      <th>...</th>\n",
              "      <th>stem-root</th>\n",
              "      <th>stem-surface</th>\n",
              "      <th>stem-color</th>\n",
              "      <th>veil-type</th>\n",
              "      <th>veil-color</th>\n",
              "      <th>has-ring</th>\n",
              "      <th>ring-type</th>\n",
              "      <th>spore-print-color</th>\n",
              "      <th>habitat</th>\n",
              "      <th>season</th>\n",
              "    </tr>\n",
              "  </thead>\n",
              "  <tbody>\n",
              "    <tr>\n",
              "      <th>0</th>\n",
              "      <td>p</td>\n",
              "      <td>15.26</td>\n",
              "      <td>x</td>\n",
              "      <td>g</td>\n",
              "      <td>o</td>\n",
              "      <td>f</td>\n",
              "      <td>e</td>\n",
              "      <td>NaN</td>\n",
              "      <td>w</td>\n",
              "      <td>16.95</td>\n",
              "      <td>...</td>\n",
              "      <td>s</td>\n",
              "      <td>y</td>\n",
              "      <td>w</td>\n",
              "      <td>u</td>\n",
              "      <td>w</td>\n",
              "      <td>t</td>\n",
              "      <td>g</td>\n",
              "      <td>NaN</td>\n",
              "      <td>d</td>\n",
              "      <td>w</td>\n",
              "    </tr>\n",
              "    <tr>\n",
              "      <th>1</th>\n",
              "      <td>p</td>\n",
              "      <td>16.60</td>\n",
              "      <td>x</td>\n",
              "      <td>g</td>\n",
              "      <td>o</td>\n",
              "      <td>f</td>\n",
              "      <td>e</td>\n",
              "      <td>NaN</td>\n",
              "      <td>w</td>\n",
              "      <td>17.99</td>\n",
              "      <td>...</td>\n",
              "      <td>s</td>\n",
              "      <td>y</td>\n",
              "      <td>w</td>\n",
              "      <td>u</td>\n",
              "      <td>w</td>\n",
              "      <td>t</td>\n",
              "      <td>g</td>\n",
              "      <td>NaN</td>\n",
              "      <td>d</td>\n",
              "      <td>u</td>\n",
              "    </tr>\n",
              "    <tr>\n",
              "      <th>2</th>\n",
              "      <td>p</td>\n",
              "      <td>14.07</td>\n",
              "      <td>x</td>\n",
              "      <td>g</td>\n",
              "      <td>o</td>\n",
              "      <td>f</td>\n",
              "      <td>e</td>\n",
              "      <td>NaN</td>\n",
              "      <td>w</td>\n",
              "      <td>17.80</td>\n",
              "      <td>...</td>\n",
              "      <td>s</td>\n",
              "      <td>y</td>\n",
              "      <td>w</td>\n",
              "      <td>u</td>\n",
              "      <td>w</td>\n",
              "      <td>t</td>\n",
              "      <td>g</td>\n",
              "      <td>NaN</td>\n",
              "      <td>d</td>\n",
              "      <td>w</td>\n",
              "    </tr>\n",
              "    <tr>\n",
              "      <th>3</th>\n",
              "      <td>p</td>\n",
              "      <td>14.17</td>\n",
              "      <td>f</td>\n",
              "      <td>h</td>\n",
              "      <td>e</td>\n",
              "      <td>f</td>\n",
              "      <td>e</td>\n",
              "      <td>NaN</td>\n",
              "      <td>w</td>\n",
              "      <td>15.77</td>\n",
              "      <td>...</td>\n",
              "      <td>s</td>\n",
              "      <td>y</td>\n",
              "      <td>w</td>\n",
              "      <td>u</td>\n",
              "      <td>w</td>\n",
              "      <td>t</td>\n",
              "      <td>p</td>\n",
              "      <td>NaN</td>\n",
              "      <td>d</td>\n",
              "      <td>w</td>\n",
              "    </tr>\n",
              "    <tr>\n",
              "      <th>4</th>\n",
              "      <td>p</td>\n",
              "      <td>14.64</td>\n",
              "      <td>x</td>\n",
              "      <td>h</td>\n",
              "      <td>o</td>\n",
              "      <td>f</td>\n",
              "      <td>e</td>\n",
              "      <td>NaN</td>\n",
              "      <td>w</td>\n",
              "      <td>16.53</td>\n",
              "      <td>...</td>\n",
              "      <td>s</td>\n",
              "      <td>y</td>\n",
              "      <td>w</td>\n",
              "      <td>u</td>\n",
              "      <td>w</td>\n",
              "      <td>t</td>\n",
              "      <td>p</td>\n",
              "      <td>NaN</td>\n",
              "      <td>d</td>\n",
              "      <td>w</td>\n",
              "    </tr>\n",
              "    <tr>\n",
              "      <th>5</th>\n",
              "      <td>p</td>\n",
              "      <td>15.34</td>\n",
              "      <td>x</td>\n",
              "      <td>g</td>\n",
              "      <td>o</td>\n",
              "      <td>f</td>\n",
              "      <td>e</td>\n",
              "      <td>NaN</td>\n",
              "      <td>w</td>\n",
              "      <td>17.84</td>\n",
              "      <td>...</td>\n",
              "      <td>s</td>\n",
              "      <td>y</td>\n",
              "      <td>w</td>\n",
              "      <td>u</td>\n",
              "      <td>w</td>\n",
              "      <td>t</td>\n",
              "      <td>p</td>\n",
              "      <td>NaN</td>\n",
              "      <td>d</td>\n",
              "      <td>u</td>\n",
              "    </tr>\n",
              "    <tr>\n",
              "      <th>6</th>\n",
              "      <td>p</td>\n",
              "      <td>14.85</td>\n",
              "      <td>f</td>\n",
              "      <td>h</td>\n",
              "      <td>o</td>\n",
              "      <td>f</td>\n",
              "      <td>e</td>\n",
              "      <td>NaN</td>\n",
              "      <td>w</td>\n",
              "      <td>17.71</td>\n",
              "      <td>...</td>\n",
              "      <td>s</td>\n",
              "      <td>y</td>\n",
              "      <td>w</td>\n",
              "      <td>u</td>\n",
              "      <td>w</td>\n",
              "      <td>t</td>\n",
              "      <td>g</td>\n",
              "      <td>NaN</td>\n",
              "      <td>d</td>\n",
              "      <td>w</td>\n",
              "    </tr>\n",
              "    <tr>\n",
              "      <th>7</th>\n",
              "      <td>p</td>\n",
              "      <td>14.86</td>\n",
              "      <td>x</td>\n",
              "      <td>h</td>\n",
              "      <td>e</td>\n",
              "      <td>f</td>\n",
              "      <td>e</td>\n",
              "      <td>NaN</td>\n",
              "      <td>w</td>\n",
              "      <td>17.03</td>\n",
              "      <td>...</td>\n",
              "      <td>s</td>\n",
              "      <td>y</td>\n",
              "      <td>w</td>\n",
              "      <td>u</td>\n",
              "      <td>w</td>\n",
              "      <td>t</td>\n",
              "      <td>p</td>\n",
              "      <td>NaN</td>\n",
              "      <td>d</td>\n",
              "      <td>u</td>\n",
              "    </tr>\n",
              "    <tr>\n",
              "      <th>8</th>\n",
              "      <td>p</td>\n",
              "      <td>12.85</td>\n",
              "      <td>f</td>\n",
              "      <td>g</td>\n",
              "      <td>o</td>\n",
              "      <td>f</td>\n",
              "      <td>e</td>\n",
              "      <td>NaN</td>\n",
              "      <td>w</td>\n",
              "      <td>17.27</td>\n",
              "      <td>...</td>\n",
              "      <td>s</td>\n",
              "      <td>y</td>\n",
              "      <td>w</td>\n",
              "      <td>u</td>\n",
              "      <td>w</td>\n",
              "      <td>t</td>\n",
              "      <td>p</td>\n",
              "      <td>NaN</td>\n",
              "      <td>d</td>\n",
              "      <td>a</td>\n",
              "    </tr>\n",
              "    <tr>\n",
              "      <th>9</th>\n",
              "      <td>p</td>\n",
              "      <td>13.55</td>\n",
              "      <td>f</td>\n",
              "      <td>g</td>\n",
              "      <td>e</td>\n",
              "      <td>f</td>\n",
              "      <td>e</td>\n",
              "      <td>NaN</td>\n",
              "      <td>w</td>\n",
              "      <td>16.04</td>\n",
              "      <td>...</td>\n",
              "      <td>s</td>\n",
              "      <td>y</td>\n",
              "      <td>w</td>\n",
              "      <td>u</td>\n",
              "      <td>w</td>\n",
              "      <td>t</td>\n",
              "      <td>p</td>\n",
              "      <td>NaN</td>\n",
              "      <td>d</td>\n",
              "      <td>w</td>\n",
              "    </tr>\n",
              "  </tbody>\n",
              "</table>\n",
              "<p>10 rows × 21 columns</p>\n",
              "</div>\n",
              "      <button class=\"colab-df-convert\" onclick=\"convertToInteractive('df-648379f6-7e11-46c5-8851-628124bf5d88')\"\n",
              "              title=\"Convert this dataframe to an interactive table.\"\n",
              "              style=\"display:none;\">\n",
              "        \n",
              "  <svg xmlns=\"http://www.w3.org/2000/svg\" height=\"24px\"viewBox=\"0 0 24 24\"\n",
              "       width=\"24px\">\n",
              "    <path d=\"M0 0h24v24H0V0z\" fill=\"none\"/>\n",
              "    <path d=\"M18.56 5.44l.94 2.06.94-2.06 2.06-.94-2.06-.94-.94-2.06-.94 2.06-2.06.94zm-11 1L8.5 8.5l.94-2.06 2.06-.94-2.06-.94L8.5 2.5l-.94 2.06-2.06.94zm10 10l.94 2.06.94-2.06 2.06-.94-2.06-.94-.94-2.06-.94 2.06-2.06.94z\"/><path d=\"M17.41 7.96l-1.37-1.37c-.4-.4-.92-.59-1.43-.59-.52 0-1.04.2-1.43.59L10.3 9.45l-7.72 7.72c-.78.78-.78 2.05 0 2.83L4 21.41c.39.39.9.59 1.41.59.51 0 1.02-.2 1.41-.59l7.78-7.78 2.81-2.81c.8-.78.8-2.07 0-2.86zM5.41 20L4 18.59l7.72-7.72 1.47 1.35L5.41 20z\"/>\n",
              "  </svg>\n",
              "      </button>\n",
              "      \n",
              "  <style>\n",
              "    .colab-df-container {\n",
              "      display:flex;\n",
              "      flex-wrap:wrap;\n",
              "      gap: 12px;\n",
              "    }\n",
              "\n",
              "    .colab-df-convert {\n",
              "      background-color: #E8F0FE;\n",
              "      border: none;\n",
              "      border-radius: 50%;\n",
              "      cursor: pointer;\n",
              "      display: none;\n",
              "      fill: #1967D2;\n",
              "      height: 32px;\n",
              "      padding: 0 0 0 0;\n",
              "      width: 32px;\n",
              "    }\n",
              "\n",
              "    .colab-df-convert:hover {\n",
              "      background-color: #E2EBFA;\n",
              "      box-shadow: 0px 1px 2px rgba(60, 64, 67, 0.3), 0px 1px 3px 1px rgba(60, 64, 67, 0.15);\n",
              "      fill: #174EA6;\n",
              "    }\n",
              "\n",
              "    [theme=dark] .colab-df-convert {\n",
              "      background-color: #3B4455;\n",
              "      fill: #D2E3FC;\n",
              "    }\n",
              "\n",
              "    [theme=dark] .colab-df-convert:hover {\n",
              "      background-color: #434B5C;\n",
              "      box-shadow: 0px 1px 3px 1px rgba(0, 0, 0, 0.15);\n",
              "      filter: drop-shadow(0px 1px 2px rgba(0, 0, 0, 0.3));\n",
              "      fill: #FFFFFF;\n",
              "    }\n",
              "  </style>\n",
              "\n",
              "      <script>\n",
              "        const buttonEl =\n",
              "          document.querySelector('#df-648379f6-7e11-46c5-8851-628124bf5d88 button.colab-df-convert');\n",
              "        buttonEl.style.display =\n",
              "          google.colab.kernel.accessAllowed ? 'block' : 'none';\n",
              "\n",
              "        async function convertToInteractive(key) {\n",
              "          const element = document.querySelector('#df-648379f6-7e11-46c5-8851-628124bf5d88');\n",
              "          const dataTable =\n",
              "            await google.colab.kernel.invokeFunction('convertToInteractive',\n",
              "                                                     [key], {});\n",
              "          if (!dataTable) return;\n",
              "\n",
              "          const docLinkHtml = 'Like what you see? Visit the ' +\n",
              "            '<a target=\"_blank\" href=https://colab.research.google.com/notebooks/data_table.ipynb>data table notebook</a>'\n",
              "            + ' to learn more about interactive tables.';\n",
              "          element.innerHTML = '';\n",
              "          dataTable['output_type'] = 'display_data';\n",
              "          await google.colab.output.renderOutput(dataTable, element);\n",
              "          const docLink = document.createElement('div');\n",
              "          docLink.innerHTML = docLinkHtml;\n",
              "          element.appendChild(docLink);\n",
              "        }\n",
              "      </script>\n",
              "    </div>\n",
              "  </div>\n",
              "  "
            ]
          },
          "metadata": {},
          "execution_count": 79
        }
      ],
      "source": [
        "import pandas as pd\n",
        "from google.colab import drive\n",
        "drive.mount('/content/drive')\n",
        "df = pd.read_csv('/content/drive/MyDrive/secondary_data.csv')\n",
        "df.head(10)"
      ]
    },
    {
      "cell_type": "markdown",
      "source": [
        "Separo la variable a predecir"
      ],
      "metadata": {
        "id": "uienb68P7c8N"
      }
    },
    {
      "cell_type": "code",
      "source": [
        "df['class'] = df['class'].map(lambda x: 0 if (x == 'p') else 1)"
      ],
      "metadata": {
        "id": "r6OG_xY8_0xg"
      },
      "execution_count": null,
      "outputs": []
    },
    {
      "cell_type": "code",
      "source": [
        "X = df.drop('class', axis=1)\n",
        "y = df['class']"
      ],
      "metadata": {
        "id": "ojAvugTx7BjK"
      },
      "execution_count": null,
      "outputs": []
    },
    {
      "cell_type": "markdown",
      "source": [
        "Separo 80% Train y 20% test."
      ],
      "metadata": {
        "id": "yOgCqWpC7WUD"
      }
    },
    {
      "cell_type": "code",
      "source": [
        "from sklearn.model_selection import train_test_split\n",
        "\n",
        "X_train, X_test, y_train, y_test = train_test_split(X, y, test_size=0.2, random_state=1)"
      ],
      "metadata": {
        "id": "QACVBWkn7Rdr"
      },
      "execution_count": null,
      "outputs": []
    },
    {
      "cell_type": "code",
      "source": [
        "X_train.count()"
      ],
      "metadata": {
        "id": "rcrf293yF_hS",
        "colab": {
          "base_uri": "https://localhost:8080/"
        },
        "outputId": "ff2a0cb6-df5a-4447-9bc8-ef958900d60f"
      },
      "execution_count": null,
      "outputs": [
        {
          "output_type": "execute_result",
          "data": {
            "text/plain": [
              "capdiameter-            48855\n",
              "cap-shape               48855\n",
              "cap-surface             37643\n",
              "cap-color               48855\n",
              "does-bruise-or-bleed    48855\n",
              "gill-attachment         40971\n",
              "gill-spacing            28867\n",
              "gill-color              48855\n",
              "stem-height             48855\n",
              "stem-width              48855\n",
              "stem-root                7604\n",
              "stem-surface            18316\n",
              "stem-color              48855\n",
              "veil-type                2517\n",
              "veil-color               5912\n",
              "has-ring                48855\n",
              "ring-type               46860\n",
              "spore-print-color        5135\n",
              "habitat                 48855\n",
              "season                  48855\n",
              "dtype: int64"
            ]
          },
          "metadata": {},
          "execution_count": 83
        }
      ]
    },
    {
      "cell_type": "code",
      "source": [
        "X_train.describe()"
      ],
      "metadata": {
        "id": "QIo6w5RPF50i",
        "colab": {
          "base_uri": "https://localhost:8080/",
          "height": 300
        },
        "outputId": "7509a96b-b6d8-40d5-e597-cb41b62459ee"
      },
      "execution_count": null,
      "outputs": [
        {
          "output_type": "execute_result",
          "data": {
            "text/plain": [
              "       capdiameter-   stem-height    stem-width\n",
              "count  48855.000000  48855.000000  48855.000000\n",
              "mean       6.755352      6.584611     12.179846\n",
              "std        5.324369      3.361601     10.062846\n",
              "min        0.380000      0.000000      0.000000\n",
              "25%        3.480000      4.640000      5.220000\n",
              "50%        5.870000      5.960000     10.210000\n",
              "75%        8.555000      7.750000     16.600000\n",
              "max       59.460000     33.920000    103.910000"
            ],
            "text/html": [
              "\n",
              "  <div id=\"df-649e124b-06a1-461a-ab7e-7be4279b15fe\">\n",
              "    <div class=\"colab-df-container\">\n",
              "      <div>\n",
              "<style scoped>\n",
              "    .dataframe tbody tr th:only-of-type {\n",
              "        vertical-align: middle;\n",
              "    }\n",
              "\n",
              "    .dataframe tbody tr th {\n",
              "        vertical-align: top;\n",
              "    }\n",
              "\n",
              "    .dataframe thead th {\n",
              "        text-align: right;\n",
              "    }\n",
              "</style>\n",
              "<table border=\"1\" class=\"dataframe\">\n",
              "  <thead>\n",
              "    <tr style=\"text-align: right;\">\n",
              "      <th></th>\n",
              "      <th>capdiameter-</th>\n",
              "      <th>stem-height</th>\n",
              "      <th>stem-width</th>\n",
              "    </tr>\n",
              "  </thead>\n",
              "  <tbody>\n",
              "    <tr>\n",
              "      <th>count</th>\n",
              "      <td>48855.000000</td>\n",
              "      <td>48855.000000</td>\n",
              "      <td>48855.000000</td>\n",
              "    </tr>\n",
              "    <tr>\n",
              "      <th>mean</th>\n",
              "      <td>6.755352</td>\n",
              "      <td>6.584611</td>\n",
              "      <td>12.179846</td>\n",
              "    </tr>\n",
              "    <tr>\n",
              "      <th>std</th>\n",
              "      <td>5.324369</td>\n",
              "      <td>3.361601</td>\n",
              "      <td>10.062846</td>\n",
              "    </tr>\n",
              "    <tr>\n",
              "      <th>min</th>\n",
              "      <td>0.380000</td>\n",
              "      <td>0.000000</td>\n",
              "      <td>0.000000</td>\n",
              "    </tr>\n",
              "    <tr>\n",
              "      <th>25%</th>\n",
              "      <td>3.480000</td>\n",
              "      <td>4.640000</td>\n",
              "      <td>5.220000</td>\n",
              "    </tr>\n",
              "    <tr>\n",
              "      <th>50%</th>\n",
              "      <td>5.870000</td>\n",
              "      <td>5.960000</td>\n",
              "      <td>10.210000</td>\n",
              "    </tr>\n",
              "    <tr>\n",
              "      <th>75%</th>\n",
              "      <td>8.555000</td>\n",
              "      <td>7.750000</td>\n",
              "      <td>16.600000</td>\n",
              "    </tr>\n",
              "    <tr>\n",
              "      <th>max</th>\n",
              "      <td>59.460000</td>\n",
              "      <td>33.920000</td>\n",
              "      <td>103.910000</td>\n",
              "    </tr>\n",
              "  </tbody>\n",
              "</table>\n",
              "</div>\n",
              "      <button class=\"colab-df-convert\" onclick=\"convertToInteractive('df-649e124b-06a1-461a-ab7e-7be4279b15fe')\"\n",
              "              title=\"Convert this dataframe to an interactive table.\"\n",
              "              style=\"display:none;\">\n",
              "        \n",
              "  <svg xmlns=\"http://www.w3.org/2000/svg\" height=\"24px\"viewBox=\"0 0 24 24\"\n",
              "       width=\"24px\">\n",
              "    <path d=\"M0 0h24v24H0V0z\" fill=\"none\"/>\n",
              "    <path d=\"M18.56 5.44l.94 2.06.94-2.06 2.06-.94-2.06-.94-.94-2.06-.94 2.06-2.06.94zm-11 1L8.5 8.5l.94-2.06 2.06-.94-2.06-.94L8.5 2.5l-.94 2.06-2.06.94zm10 10l.94 2.06.94-2.06 2.06-.94-2.06-.94-.94-2.06-.94 2.06-2.06.94z\"/><path d=\"M17.41 7.96l-1.37-1.37c-.4-.4-.92-.59-1.43-.59-.52 0-1.04.2-1.43.59L10.3 9.45l-7.72 7.72c-.78.78-.78 2.05 0 2.83L4 21.41c.39.39.9.59 1.41.59.51 0 1.02-.2 1.41-.59l7.78-7.78 2.81-2.81c.8-.78.8-2.07 0-2.86zM5.41 20L4 18.59l7.72-7.72 1.47 1.35L5.41 20z\"/>\n",
              "  </svg>\n",
              "      </button>\n",
              "      \n",
              "  <style>\n",
              "    .colab-df-container {\n",
              "      display:flex;\n",
              "      flex-wrap:wrap;\n",
              "      gap: 12px;\n",
              "    }\n",
              "\n",
              "    .colab-df-convert {\n",
              "      background-color: #E8F0FE;\n",
              "      border: none;\n",
              "      border-radius: 50%;\n",
              "      cursor: pointer;\n",
              "      display: none;\n",
              "      fill: #1967D2;\n",
              "      height: 32px;\n",
              "      padding: 0 0 0 0;\n",
              "      width: 32px;\n",
              "    }\n",
              "\n",
              "    .colab-df-convert:hover {\n",
              "      background-color: #E2EBFA;\n",
              "      box-shadow: 0px 1px 2px rgba(60, 64, 67, 0.3), 0px 1px 3px 1px rgba(60, 64, 67, 0.15);\n",
              "      fill: #174EA6;\n",
              "    }\n",
              "\n",
              "    [theme=dark] .colab-df-convert {\n",
              "      background-color: #3B4455;\n",
              "      fill: #D2E3FC;\n",
              "    }\n",
              "\n",
              "    [theme=dark] .colab-df-convert:hover {\n",
              "      background-color: #434B5C;\n",
              "      box-shadow: 0px 1px 3px 1px rgba(0, 0, 0, 0.15);\n",
              "      filter: drop-shadow(0px 1px 2px rgba(0, 0, 0, 0.3));\n",
              "      fill: #FFFFFF;\n",
              "    }\n",
              "  </style>\n",
              "\n",
              "      <script>\n",
              "        const buttonEl =\n",
              "          document.querySelector('#df-649e124b-06a1-461a-ab7e-7be4279b15fe button.colab-df-convert');\n",
              "        buttonEl.style.display =\n",
              "          google.colab.kernel.accessAllowed ? 'block' : 'none';\n",
              "\n",
              "        async function convertToInteractive(key) {\n",
              "          const element = document.querySelector('#df-649e124b-06a1-461a-ab7e-7be4279b15fe');\n",
              "          const dataTable =\n",
              "            await google.colab.kernel.invokeFunction('convertToInteractive',\n",
              "                                                     [key], {});\n",
              "          if (!dataTable) return;\n",
              "\n",
              "          const docLinkHtml = 'Like what you see? Visit the ' +\n",
              "            '<a target=\"_blank\" href=https://colab.research.google.com/notebooks/data_table.ipynb>data table notebook</a>'\n",
              "            + ' to learn more about interactive tables.';\n",
              "          element.innerHTML = '';\n",
              "          dataTable['output_type'] = 'display_data';\n",
              "          await google.colab.output.renderOutput(dataTable, element);\n",
              "          const docLink = document.createElement('div');\n",
              "          docLink.innerHTML = docLinkHtml;\n",
              "          element.appendChild(docLink);\n",
              "        }\n",
              "      </script>\n",
              "    </div>\n",
              "  </div>\n",
              "  "
            ]
          },
          "metadata": {},
          "execution_count": 84
        }
      ]
    },
    {
      "cell_type": "markdown",
      "source": [
        "# **FEATURE ENGINEERING**"
      ],
      "metadata": {
        "id": "F7yscA4gzB1v"
      }
    },
    {
      "cell_type": "code",
      "source": [
        "from sklearn.preprocessing import OneHotEncoder\n",
        "!pip install category_encoders\n",
        "from category_encoders.binary import BinaryEncoder\n",
        "import numpy as np"
      ],
      "metadata": {
        "colab": {
          "base_uri": "https://localhost:8080/"
        },
        "id": "Qao1bwHnne3F",
        "outputId": "96a40ed3-961f-467c-ded2-ac418a2136e0"
      },
      "execution_count": null,
      "outputs": [
        {
          "output_type": "stream",
          "name": "stdout",
          "text": [
            "Looking in indexes: https://pypi.org/simple, https://us-python.pkg.dev/colab-wheels/public/simple/\n",
            "Requirement already satisfied: category_encoders in /usr/local/lib/python3.10/dist-packages (2.6.1)\n",
            "Requirement already satisfied: numpy>=1.14.0 in /usr/local/lib/python3.10/dist-packages (from category_encoders) (1.22.4)\n",
            "Requirement already satisfied: scikit-learn>=0.20.0 in /usr/local/lib/python3.10/dist-packages (from category_encoders) (1.2.2)\n",
            "Requirement already satisfied: scipy>=1.0.0 in /usr/local/lib/python3.10/dist-packages (from category_encoders) (1.10.1)\n",
            "Requirement already satisfied: statsmodels>=0.9.0 in /usr/local/lib/python3.10/dist-packages (from category_encoders) (0.13.5)\n",
            "Requirement already satisfied: pandas>=1.0.5 in /usr/local/lib/python3.10/dist-packages (from category_encoders) (1.5.3)\n",
            "Requirement already satisfied: patsy>=0.5.1 in /usr/local/lib/python3.10/dist-packages (from category_encoders) (0.5.3)\n",
            "Requirement already satisfied: python-dateutil>=2.8.1 in /usr/local/lib/python3.10/dist-packages (from pandas>=1.0.5->category_encoders) (2.8.2)\n",
            "Requirement already satisfied: pytz>=2020.1 in /usr/local/lib/python3.10/dist-packages (from pandas>=1.0.5->category_encoders) (2022.7.1)\n",
            "Requirement already satisfied: six in /usr/local/lib/python3.10/dist-packages (from patsy>=0.5.1->category_encoders) (1.16.0)\n",
            "Requirement already satisfied: joblib>=1.1.1 in /usr/local/lib/python3.10/dist-packages (from scikit-learn>=0.20.0->category_encoders) (1.2.0)\n",
            "Requirement already satisfied: threadpoolctl>=2.0.0 in /usr/local/lib/python3.10/dist-packages (from scikit-learn>=0.20.0->category_encoders) (3.1.0)\n",
            "Requirement already satisfied: packaging>=21.3 in /usr/local/lib/python3.10/dist-packages (from statsmodels>=0.9.0->category_encoders) (23.1)\n"
          ]
        }
      ]
    },
    {
      "cell_type": "markdown",
      "source": [
        "##**CAP-SHAPE**: tipo de forma de la tapa\n",
        "\n",
        "bell=b, conical=c, convex=x, flat=f,\n",
        "sunken=s, spherical=p, others=o"
      ],
      "metadata": {
        "id": "nWozTK801Ur2"
      }
    },
    {
      "cell_type": "code",
      "source": [
        "ohe_capshape = OneHotEncoder()\n",
        "encoded_capshape = pd.DataFrame(ohe_capshape.fit_transform(X_train[['cap-shape']]).todense().astype(int))\n",
        "encoded_capshape.columns = ohe_capshape.get_feature_names_out(['cap-shape'])\n",
        "\n",
        "encoded_capshape_test = pd.DataFrame(ohe_capshape.transform(X_test[['cap-shape']]).todense().astype(int))\n",
        "encoded_capshape_test.columns = ohe_capshape.get_feature_names_out(['cap-shape'])\n",
        "\n",
        "X_train = X_train.reset_index().drop(['index', 'cap-shape'],axis=1).join(encoded_capshape)\n",
        "X_test = X_test.reset_index().drop(['index', 'cap-shape'],axis=1).join(encoded_capshape_test)"
      ],
      "metadata": {
        "id": "X5KCsFlrz2Su"
      },
      "execution_count": null,
      "outputs": []
    },
    {
      "cell_type": "code",
      "source": [
        "X_train"
      ],
      "metadata": {
        "colab": {
          "base_uri": "https://localhost:8080/"
        },
        "id": "QTM7TGeDWe9t",
        "outputId": "ff0655a7-e7bc-4b5d-a269-983369942b98"
      },
      "execution_count": null,
      "outputs": [
        {
          "output_type": "execute_result",
          "data": {
            "text/plain": [
              "       capdiameter- cap-surface cap-color does-bruise-or-bleed  \\\n",
              "0              7.87           h         o                    f   \n",
              "1              2.76           d         n                    f   \n",
              "2              3.00           t         n                    f   \n",
              "3              6.14           g         n                    f   \n",
              "4             10.55           y         y                    f   \n",
              "...             ...         ...       ...                  ...   \n",
              "48850         13.81           k         n                    t   \n",
              "48851          2.69           d         w                    f   \n",
              "48852         11.70         NaN         g                    f   \n",
              "48853          2.83           w         u                    f   \n",
              "48854          1.57           i         l                    f   \n",
              "\n",
              "      gill-attachment gill-spacing gill-color  stem-height  stem-width  \\\n",
              "0                   s          NaN          n         9.49       12.09   \n",
              "1                   p          NaN          e         4.19        8.59   \n",
              "2                   s            c          p         4.87        8.15   \n",
              "3                   e          NaN          w         7.20       13.51   \n",
              "4                   a            c          n        12.10       14.13   \n",
              "...               ...          ...        ...          ...         ...   \n",
              "48850               p          NaN          y        10.06       31.63   \n",
              "48851               d            d          p         3.76        2.41   \n",
              "48852               s            c          u         7.36       20.73   \n",
              "48853               a            c          u         5.76        5.59   \n",
              "48854               a          NaN          p         3.26        2.27   \n",
              "\n",
              "      stem-root  ... spore-print-color habitat season cap-shape_b cap-shape_c  \\\n",
              "0           NaN  ...               NaN       d      a           0           0   \n",
              "1           NaN  ...               NaN       d      a           0           0   \n",
              "2           NaN  ...               NaN       d      a           0           0   \n",
              "3           NaN  ...               NaN       d      a           0           0   \n",
              "4           NaN  ...               NaN       d      u           0           0   \n",
              "...         ...  ...               ...     ...    ...         ...         ...   \n",
              "48850         c  ...               NaN       d      a           0           0   \n",
              "48851       NaN  ...               NaN       g      a           0           0   \n",
              "48852       NaN  ...               NaN       l      a           0           0   \n",
              "48853       NaN  ...               NaN       d      a           0           0   \n",
              "48854       NaN  ...                 p       g      u           0           0   \n",
              "\n",
              "      cap-shape_f cap-shape_o cap-shape_p cap-shape_s  cap-shape_x  \n",
              "0               1           0           0           0            0  \n",
              "1               0           0           0           0            1  \n",
              "2               0           0           0           0            1  \n",
              "3               0           0           0           0            1  \n",
              "4               0           0           0           0            1  \n",
              "...           ...         ...         ...         ...          ...  \n",
              "48850           0           0           0           0            1  \n",
              "48851           0           0           0           0            1  \n",
              "48852           1           0           0           0            0  \n",
              "48853           0           0           0           1            0  \n",
              "48854           0           0           0           0            1  \n",
              "\n",
              "[48855 rows x 26 columns]"
            ],
            "text/html": [
              "\n",
              "  <div id=\"df-61440aca-761c-4096-9b02-ce58fc320274\">\n",
              "    <div class=\"colab-df-container\">\n",
              "      <div>\n",
              "<style scoped>\n",
              "    .dataframe tbody tr th:only-of-type {\n",
              "        vertical-align: middle;\n",
              "    }\n",
              "\n",
              "    .dataframe tbody tr th {\n",
              "        vertical-align: top;\n",
              "    }\n",
              "\n",
              "    .dataframe thead th {\n",
              "        text-align: right;\n",
              "    }\n",
              "</style>\n",
              "<table border=\"1\" class=\"dataframe\">\n",
              "  <thead>\n",
              "    <tr style=\"text-align: right;\">\n",
              "      <th></th>\n",
              "      <th>capdiameter-</th>\n",
              "      <th>cap-surface</th>\n",
              "      <th>cap-color</th>\n",
              "      <th>does-bruise-or-bleed</th>\n",
              "      <th>gill-attachment</th>\n",
              "      <th>gill-spacing</th>\n",
              "      <th>gill-color</th>\n",
              "      <th>stem-height</th>\n",
              "      <th>stem-width</th>\n",
              "      <th>stem-root</th>\n",
              "      <th>...</th>\n",
              "      <th>spore-print-color</th>\n",
              "      <th>habitat</th>\n",
              "      <th>season</th>\n",
              "      <th>cap-shape_b</th>\n",
              "      <th>cap-shape_c</th>\n",
              "      <th>cap-shape_f</th>\n",
              "      <th>cap-shape_o</th>\n",
              "      <th>cap-shape_p</th>\n",
              "      <th>cap-shape_s</th>\n",
              "      <th>cap-shape_x</th>\n",
              "    </tr>\n",
              "  </thead>\n",
              "  <tbody>\n",
              "    <tr>\n",
              "      <th>0</th>\n",
              "      <td>7.87</td>\n",
              "      <td>h</td>\n",
              "      <td>o</td>\n",
              "      <td>f</td>\n",
              "      <td>s</td>\n",
              "      <td>NaN</td>\n",
              "      <td>n</td>\n",
              "      <td>9.49</td>\n",
              "      <td>12.09</td>\n",
              "      <td>NaN</td>\n",
              "      <td>...</td>\n",
              "      <td>NaN</td>\n",
              "      <td>d</td>\n",
              "      <td>a</td>\n",
              "      <td>0</td>\n",
              "      <td>0</td>\n",
              "      <td>1</td>\n",
              "      <td>0</td>\n",
              "      <td>0</td>\n",
              "      <td>0</td>\n",
              "      <td>0</td>\n",
              "    </tr>\n",
              "    <tr>\n",
              "      <th>1</th>\n",
              "      <td>2.76</td>\n",
              "      <td>d</td>\n",
              "      <td>n</td>\n",
              "      <td>f</td>\n",
              "      <td>p</td>\n",
              "      <td>NaN</td>\n",
              "      <td>e</td>\n",
              "      <td>4.19</td>\n",
              "      <td>8.59</td>\n",
              "      <td>NaN</td>\n",
              "      <td>...</td>\n",
              "      <td>NaN</td>\n",
              "      <td>d</td>\n",
              "      <td>a</td>\n",
              "      <td>0</td>\n",
              "      <td>0</td>\n",
              "      <td>0</td>\n",
              "      <td>0</td>\n",
              "      <td>0</td>\n",
              "      <td>0</td>\n",
              "      <td>1</td>\n",
              "    </tr>\n",
              "    <tr>\n",
              "      <th>2</th>\n",
              "      <td>3.00</td>\n",
              "      <td>t</td>\n",
              "      <td>n</td>\n",
              "      <td>f</td>\n",
              "      <td>s</td>\n",
              "      <td>c</td>\n",
              "      <td>p</td>\n",
              "      <td>4.87</td>\n",
              "      <td>8.15</td>\n",
              "      <td>NaN</td>\n",
              "      <td>...</td>\n",
              "      <td>NaN</td>\n",
              "      <td>d</td>\n",
              "      <td>a</td>\n",
              "      <td>0</td>\n",
              "      <td>0</td>\n",
              "      <td>0</td>\n",
              "      <td>0</td>\n",
              "      <td>0</td>\n",
              "      <td>0</td>\n",
              "      <td>1</td>\n",
              "    </tr>\n",
              "    <tr>\n",
              "      <th>3</th>\n",
              "      <td>6.14</td>\n",
              "      <td>g</td>\n",
              "      <td>n</td>\n",
              "      <td>f</td>\n",
              "      <td>e</td>\n",
              "      <td>NaN</td>\n",
              "      <td>w</td>\n",
              "      <td>7.20</td>\n",
              "      <td>13.51</td>\n",
              "      <td>NaN</td>\n",
              "      <td>...</td>\n",
              "      <td>NaN</td>\n",
              "      <td>d</td>\n",
              "      <td>a</td>\n",
              "      <td>0</td>\n",
              "      <td>0</td>\n",
              "      <td>0</td>\n",
              "      <td>0</td>\n",
              "      <td>0</td>\n",
              "      <td>0</td>\n",
              "      <td>1</td>\n",
              "    </tr>\n",
              "    <tr>\n",
              "      <th>4</th>\n",
              "      <td>10.55</td>\n",
              "      <td>y</td>\n",
              "      <td>y</td>\n",
              "      <td>f</td>\n",
              "      <td>a</td>\n",
              "      <td>c</td>\n",
              "      <td>n</td>\n",
              "      <td>12.10</td>\n",
              "      <td>14.13</td>\n",
              "      <td>NaN</td>\n",
              "      <td>...</td>\n",
              "      <td>NaN</td>\n",
              "      <td>d</td>\n",
              "      <td>u</td>\n",
              "      <td>0</td>\n",
              "      <td>0</td>\n",
              "      <td>0</td>\n",
              "      <td>0</td>\n",
              "      <td>0</td>\n",
              "      <td>0</td>\n",
              "      <td>1</td>\n",
              "    </tr>\n",
              "    <tr>\n",
              "      <th>...</th>\n",
              "      <td>...</td>\n",
              "      <td>...</td>\n",
              "      <td>...</td>\n",
              "      <td>...</td>\n",
              "      <td>...</td>\n",
              "      <td>...</td>\n",
              "      <td>...</td>\n",
              "      <td>...</td>\n",
              "      <td>...</td>\n",
              "      <td>...</td>\n",
              "      <td>...</td>\n",
              "      <td>...</td>\n",
              "      <td>...</td>\n",
              "      <td>...</td>\n",
              "      <td>...</td>\n",
              "      <td>...</td>\n",
              "      <td>...</td>\n",
              "      <td>...</td>\n",
              "      <td>...</td>\n",
              "      <td>...</td>\n",
              "      <td>...</td>\n",
              "    </tr>\n",
              "    <tr>\n",
              "      <th>48850</th>\n",
              "      <td>13.81</td>\n",
              "      <td>k</td>\n",
              "      <td>n</td>\n",
              "      <td>t</td>\n",
              "      <td>p</td>\n",
              "      <td>NaN</td>\n",
              "      <td>y</td>\n",
              "      <td>10.06</td>\n",
              "      <td>31.63</td>\n",
              "      <td>c</td>\n",
              "      <td>...</td>\n",
              "      <td>NaN</td>\n",
              "      <td>d</td>\n",
              "      <td>a</td>\n",
              "      <td>0</td>\n",
              "      <td>0</td>\n",
              "      <td>0</td>\n",
              "      <td>0</td>\n",
              "      <td>0</td>\n",
              "      <td>0</td>\n",
              "      <td>1</td>\n",
              "    </tr>\n",
              "    <tr>\n",
              "      <th>48851</th>\n",
              "      <td>2.69</td>\n",
              "      <td>d</td>\n",
              "      <td>w</td>\n",
              "      <td>f</td>\n",
              "      <td>d</td>\n",
              "      <td>d</td>\n",
              "      <td>p</td>\n",
              "      <td>3.76</td>\n",
              "      <td>2.41</td>\n",
              "      <td>NaN</td>\n",
              "      <td>...</td>\n",
              "      <td>NaN</td>\n",
              "      <td>g</td>\n",
              "      <td>a</td>\n",
              "      <td>0</td>\n",
              "      <td>0</td>\n",
              "      <td>0</td>\n",
              "      <td>0</td>\n",
              "      <td>0</td>\n",
              "      <td>0</td>\n",
              "      <td>1</td>\n",
              "    </tr>\n",
              "    <tr>\n",
              "      <th>48852</th>\n",
              "      <td>11.70</td>\n",
              "      <td>NaN</td>\n",
              "      <td>g</td>\n",
              "      <td>f</td>\n",
              "      <td>s</td>\n",
              "      <td>c</td>\n",
              "      <td>u</td>\n",
              "      <td>7.36</td>\n",
              "      <td>20.73</td>\n",
              "      <td>NaN</td>\n",
              "      <td>...</td>\n",
              "      <td>NaN</td>\n",
              "      <td>l</td>\n",
              "      <td>a</td>\n",
              "      <td>0</td>\n",
              "      <td>0</td>\n",
              "      <td>1</td>\n",
              "      <td>0</td>\n",
              "      <td>0</td>\n",
              "      <td>0</td>\n",
              "      <td>0</td>\n",
              "    </tr>\n",
              "    <tr>\n",
              "      <th>48853</th>\n",
              "      <td>2.83</td>\n",
              "      <td>w</td>\n",
              "      <td>u</td>\n",
              "      <td>f</td>\n",
              "      <td>a</td>\n",
              "      <td>c</td>\n",
              "      <td>u</td>\n",
              "      <td>5.76</td>\n",
              "      <td>5.59</td>\n",
              "      <td>NaN</td>\n",
              "      <td>...</td>\n",
              "      <td>NaN</td>\n",
              "      <td>d</td>\n",
              "      <td>a</td>\n",
              "      <td>0</td>\n",
              "      <td>0</td>\n",
              "      <td>0</td>\n",
              "      <td>0</td>\n",
              "      <td>0</td>\n",
              "      <td>1</td>\n",
              "      <td>0</td>\n",
              "    </tr>\n",
              "    <tr>\n",
              "      <th>48854</th>\n",
              "      <td>1.57</td>\n",
              "      <td>i</td>\n",
              "      <td>l</td>\n",
              "      <td>f</td>\n",
              "      <td>a</td>\n",
              "      <td>NaN</td>\n",
              "      <td>p</td>\n",
              "      <td>3.26</td>\n",
              "      <td>2.27</td>\n",
              "      <td>NaN</td>\n",
              "      <td>...</td>\n",
              "      <td>p</td>\n",
              "      <td>g</td>\n",
              "      <td>u</td>\n",
              "      <td>0</td>\n",
              "      <td>0</td>\n",
              "      <td>0</td>\n",
              "      <td>0</td>\n",
              "      <td>0</td>\n",
              "      <td>0</td>\n",
              "      <td>1</td>\n",
              "    </tr>\n",
              "  </tbody>\n",
              "</table>\n",
              "<p>48855 rows × 26 columns</p>\n",
              "</div>\n",
              "      <button class=\"colab-df-convert\" onclick=\"convertToInteractive('df-61440aca-761c-4096-9b02-ce58fc320274')\"\n",
              "              title=\"Convert this dataframe to an interactive table.\"\n",
              "              style=\"display:none;\">\n",
              "        \n",
              "  <svg xmlns=\"http://www.w3.org/2000/svg\" height=\"24px\"viewBox=\"0 0 24 24\"\n",
              "       width=\"24px\">\n",
              "    <path d=\"M0 0h24v24H0V0z\" fill=\"none\"/>\n",
              "    <path d=\"M18.56 5.44l.94 2.06.94-2.06 2.06-.94-2.06-.94-.94-2.06-.94 2.06-2.06.94zm-11 1L8.5 8.5l.94-2.06 2.06-.94-2.06-.94L8.5 2.5l-.94 2.06-2.06.94zm10 10l.94 2.06.94-2.06 2.06-.94-2.06-.94-.94-2.06-.94 2.06-2.06.94z\"/><path d=\"M17.41 7.96l-1.37-1.37c-.4-.4-.92-.59-1.43-.59-.52 0-1.04.2-1.43.59L10.3 9.45l-7.72 7.72c-.78.78-.78 2.05 0 2.83L4 21.41c.39.39.9.59 1.41.59.51 0 1.02-.2 1.41-.59l7.78-7.78 2.81-2.81c.8-.78.8-2.07 0-2.86zM5.41 20L4 18.59l7.72-7.72 1.47 1.35L5.41 20z\"/>\n",
              "  </svg>\n",
              "      </button>\n",
              "      \n",
              "  <style>\n",
              "    .colab-df-container {\n",
              "      display:flex;\n",
              "      flex-wrap:wrap;\n",
              "      gap: 12px;\n",
              "    }\n",
              "\n",
              "    .colab-df-convert {\n",
              "      background-color: #E8F0FE;\n",
              "      border: none;\n",
              "      border-radius: 50%;\n",
              "      cursor: pointer;\n",
              "      display: none;\n",
              "      fill: #1967D2;\n",
              "      height: 32px;\n",
              "      padding: 0 0 0 0;\n",
              "      width: 32px;\n",
              "    }\n",
              "\n",
              "    .colab-df-convert:hover {\n",
              "      background-color: #E2EBFA;\n",
              "      box-shadow: 0px 1px 2px rgba(60, 64, 67, 0.3), 0px 1px 3px 1px rgba(60, 64, 67, 0.15);\n",
              "      fill: #174EA6;\n",
              "    }\n",
              "\n",
              "    [theme=dark] .colab-df-convert {\n",
              "      background-color: #3B4455;\n",
              "      fill: #D2E3FC;\n",
              "    }\n",
              "\n",
              "    [theme=dark] .colab-df-convert:hover {\n",
              "      background-color: #434B5C;\n",
              "      box-shadow: 0px 1px 3px 1px rgba(0, 0, 0, 0.15);\n",
              "      filter: drop-shadow(0px 1px 2px rgba(0, 0, 0, 0.3));\n",
              "      fill: #FFFFFF;\n",
              "    }\n",
              "  </style>\n",
              "\n",
              "      <script>\n",
              "        const buttonEl =\n",
              "          document.querySelector('#df-61440aca-761c-4096-9b02-ce58fc320274 button.colab-df-convert');\n",
              "        buttonEl.style.display =\n",
              "          google.colab.kernel.accessAllowed ? 'block' : 'none';\n",
              "\n",
              "        async function convertToInteractive(key) {\n",
              "          const element = document.querySelector('#df-61440aca-761c-4096-9b02-ce58fc320274');\n",
              "          const dataTable =\n",
              "            await google.colab.kernel.invokeFunction('convertToInteractive',\n",
              "                                                     [key], {});\n",
              "          if (!dataTable) return;\n",
              "\n",
              "          const docLinkHtml = 'Like what you see? Visit the ' +\n",
              "            '<a target=\"_blank\" href=https://colab.research.google.com/notebooks/data_table.ipynb>data table notebook</a>'\n",
              "            + ' to learn more about interactive tables.';\n",
              "          element.innerHTML = '';\n",
              "          dataTable['output_type'] = 'display_data';\n",
              "          await google.colab.output.renderOutput(dataTable, element);\n",
              "          const docLink = document.createElement('div');\n",
              "          docLink.innerHTML = docLinkHtml;\n",
              "          element.appendChild(docLink);\n",
              "        }\n",
              "      </script>\n",
              "    </div>\n",
              "  </div>\n",
              "  "
            ]
          },
          "metadata": {},
          "execution_count": 87
        }
      ]
    },
    {
      "cell_type": "markdown",
      "source": [
        "## **CAP-SURFACE**: tipo se superficie de la tapa FALTAN DATOS ❗23.1%\n",
        "\n",
        "fibrous=i, grooves=g, scaly=y, smooth=s,\n",
        "shiny=h, leathery=l, silky=k, sticky=t,:"
      ],
      "metadata": {
        "id": "TPYWjpHsVoLQ"
      }
    },
    {
      "cell_type": "code",
      "source": [
        "X_train['cap-surface'].count()"
      ],
      "metadata": {
        "colab": {
          "base_uri": "https://localhost:8080/"
        },
        "id": "eaaY-Yvf7GPL",
        "outputId": "4709f5f6-3503-4b97-bc86-ad2c11c829dc"
      },
      "execution_count": null,
      "outputs": [
        {
          "output_type": "execute_result",
          "data": {
            "text/plain": [
              "37643"
            ]
          },
          "metadata": {},
          "execution_count": 88
        }
      ]
    },
    {
      "cell_type": "markdown",
      "source": [
        "Como faltan datos, 37526 de 48885 -> 77%, relleno con el máximo."
      ],
      "metadata": {
        "id": "BznzWGHU7l8c"
      }
    },
    {
      "cell_type": "code",
      "source": [
        "X_train['cap-surface'].value_counts()"
      ],
      "metadata": {
        "colab": {
          "base_uri": "https://localhost:8080/"
        },
        "id": "4c209kCR8Toc",
        "outputId": "93652724-332c-44ee-feb3-37ac0796c694"
      },
      "execution_count": null,
      "outputs": [
        {
          "output_type": "execute_result",
          "data": {
            "text/plain": [
              "t    6607\n",
              "s    6098\n",
              "y    5062\n",
              "h    3962\n",
              "g    3783\n",
              "d    3562\n",
              "e    2068\n",
              "k    1842\n",
              "i    1788\n",
              "w    1750\n",
              "l    1121\n",
              "Name: cap-surface, dtype: int64"
            ]
          },
          "metadata": {},
          "execution_count": 89
        }
      ]
    },
    {
      "cell_type": "code",
      "source": [
        "X_train['cap-surface'] = X_train['cap-surface'].fillna('t')\n",
        "X_test['cap-surface'] = X_test['cap-surface'].fillna('t')"
      ],
      "metadata": {
        "id": "Eeq7InGDYbiu"
      },
      "execution_count": null,
      "outputs": []
    },
    {
      "cell_type": "code",
      "source": [
        "ohe_capsurface = OneHotEncoder()\n",
        "encoded_capsurface = pd.DataFrame(ohe_capsurface.fit_transform(X_train[['cap-surface']]).todense().astype(int))\n",
        "encoded_capsurface.columns = ohe_capsurface.get_feature_names_out(['cap-surface'])\n",
        "\n",
        "encoded_capsurface_test = pd.DataFrame(ohe_capsurface.transform(X_test[['cap-surface']]).todense().astype(int))\n",
        "encoded_capsurface_test.columns = ohe_capsurface.get_feature_names_out(['cap-surface'])\n",
        "\n",
        "X_train = X_train.reset_index().drop(['index', 'cap-surface'],axis=1).join(encoded_capsurface)\n",
        "X_test = X_test.reset_index().drop(['index', 'cap-surface'],axis=1).join(encoded_capsurface_test)"
      ],
      "metadata": {
        "id": "m27HKTxtW1dO"
      },
      "execution_count": null,
      "outputs": []
    },
    {
      "cell_type": "markdown",
      "source": [
        "## **CAP-COLOR** Color de la tapa\n",
        "\n",
        "brown=n, buff=b, gray=g, green=r, pink=p,\n",
        "purple=u, red=e, white=w, yellow=y, blue=l,\n",
        "orange=o, black=k"
      ],
      "metadata": {
        "id": "WZWhAiVOtj-A"
      }
    },
    {
      "cell_type": "code",
      "source": [
        "X_train['cap-color'].count()"
      ],
      "metadata": {
        "colab": {
          "base_uri": "https://localhost:8080/"
        },
        "id": "oPiNGUPxZPHe",
        "outputId": "ca7a878b-c323-494d-ede3-7a4255755c23"
      },
      "execution_count": null,
      "outputs": [
        {
          "output_type": "execute_result",
          "data": {
            "text/plain": [
              "48855"
            ]
          },
          "metadata": {},
          "execution_count": 92
        }
      ]
    },
    {
      "cell_type": "code",
      "source": [
        "be_capcolor = BinaryEncoder()\n",
        "\n",
        "encoded_capcolor = be_capcolor.fit_transform(X_train[['cap-color']])\n",
        "encoded_capcolor_test = be_capcolor.transform(X_test[['cap-color']])\n",
        "\n",
        "X_train = X_train.reset_index().drop(['index', 'cap-color'],axis=1).join(encoded_capcolor)\n",
        "X_test = X_test.reset_index().drop(['index', 'cap-color'],axis=1).join(encoded_capcolor_test)"
      ],
      "metadata": {
        "id": "tNucGNKntvl_"
      },
      "execution_count": null,
      "outputs": []
    },
    {
      "cell_type": "markdown",
      "source": [
        "##**DOES-BRUISE-OR-BLEED** Si tiene moretones o sangrado\n",
        "\n",
        "bruises-or-bleeding=t,no=f"
      ],
      "metadata": {
        "id": "ZBuStomnuSAH"
      }
    },
    {
      "cell_type": "code",
      "source": [
        "X_train['does-bruise-or-bleed'].count()"
      ],
      "metadata": {
        "colab": {
          "base_uri": "https://localhost:8080/"
        },
        "id": "79yPdlyrZvbH",
        "outputId": "21f726f0-d262-48d5-aaf8-a12bb3bb379b"
      },
      "execution_count": null,
      "outputs": [
        {
          "output_type": "execute_result",
          "data": {
            "text/plain": [
              "48855"
            ]
          },
          "metadata": {},
          "execution_count": 94
        }
      ]
    },
    {
      "cell_type": "code",
      "source": [
        "ohe_bruisebleed = OneHotEncoder()\n",
        "encoded_bruisebleed = pd.DataFrame(ohe_bruisebleed.fit_transform(X_train[['does-bruise-or-bleed']]).todense().astype(int))\n",
        "encoded_bruisebleed.columns = ohe_bruisebleed.get_feature_names_out(['does-bruise-or-bleed'])\n",
        "\n",
        "encoded_bruisebleed_test = pd.DataFrame(ohe_bruisebleed.transform(X_test[['does-bruise-or-bleed']]).todense().astype(int))\n",
        "encoded_bruisebleed_test.columns = ohe_bruisebleed.get_feature_names_out(['does-bruise-or-bleed'])\n",
        "\n",
        "X_train = X_train.reset_index().drop(['index', 'does-bruise-or-bleed'],axis=1).join(encoded_bruisebleed)\n",
        "X_test = X_test.reset_index().drop(['index', 'does-bruise-or-bleed'],axis=1).join(encoded_bruisebleed_test)"
      ],
      "metadata": {
        "id": "76NK13QCu0av"
      },
      "execution_count": null,
      "outputs": []
    },
    {
      "cell_type": "code",
      "source": [
        "X_train"
      ],
      "metadata": {
        "colab": {
          "base_uri": "https://localhost:8080/"
        },
        "id": "imYUBdK1ZuSw",
        "outputId": "c1ed3ca4-8b72-4e63-c36a-13740621f0e2"
      },
      "execution_count": null,
      "outputs": [
        {
          "output_type": "execute_result",
          "data": {
            "text/plain": [
              "       capdiameter- gill-attachment gill-spacing gill-color  stem-height  \\\n",
              "0              7.87               s          NaN          n         9.49   \n",
              "1              2.76               p          NaN          e         4.19   \n",
              "2              3.00               s            c          p         4.87   \n",
              "3              6.14               e          NaN          w         7.20   \n",
              "4             10.55               a            c          n        12.10   \n",
              "...             ...             ...          ...        ...          ...   \n",
              "48850         13.81               p          NaN          y        10.06   \n",
              "48851          2.69               d            d          p         3.76   \n",
              "48852         11.70               s            c          u         7.36   \n",
              "48853          2.83               a            c          u         5.76   \n",
              "48854          1.57               a          NaN          p         3.26   \n",
              "\n",
              "       stem-width stem-root stem-surface stem-color veil-type  ...  \\\n",
              "0           12.09       NaN            t          n       NaN  ...   \n",
              "1            8.59       NaN          NaN          n       NaN  ...   \n",
              "2            8.15       NaN          NaN          w       NaN  ...   \n",
              "3           13.51       NaN            y          w         u  ...   \n",
              "4           14.13       NaN            y          y       NaN  ...   \n",
              "...           ...       ...          ...        ...       ...  ...   \n",
              "48850       31.63         c          NaN          y       NaN  ...   \n",
              "48851        2.41       NaN            h          w       NaN  ...   \n",
              "48852       20.73       NaN          NaN          b       NaN  ...   \n",
              "48853        5.59       NaN            s          u       NaN  ...   \n",
              "48854        2.27       NaN          NaN          w       NaN  ...   \n",
              "\n",
              "      cap-surface_s cap-surface_t cap-surface_w cap-surface_y cap-color_0  \\\n",
              "0                 0             0             0             0           0   \n",
              "1                 0             0             0             0           0   \n",
              "2                 0             1             0             0           0   \n",
              "3                 0             0             0             0           0   \n",
              "4                 0             0             0             1           0   \n",
              "...             ...           ...           ...           ...         ...   \n",
              "48850             0             0             0             0           0   \n",
              "48851             0             0             0             0           0   \n",
              "48852             0             1             0             0           1   \n",
              "48853             0             0             1             0           0   \n",
              "48854             0             0             0             0           0   \n",
              "\n",
              "      cap-color_1  cap-color_2  cap-color_3  does-bruise-or-bleed_f  \\\n",
              "0               0            0            1                       1   \n",
              "1               0            1            0                       1   \n",
              "2               0            1            0                       1   \n",
              "3               0            1            0                       1   \n",
              "4               0            1            1                       1   \n",
              "...           ...          ...          ...                     ...   \n",
              "48850           0            1            0                       0   \n",
              "48851           1            1            0                       1   \n",
              "48852           0            0            0                       1   \n",
              "48853           1            1            1                       1   \n",
              "48854           1            0            0                       1   \n",
              "\n",
              "       does-bruise-or-bleed_t  \n",
              "0                           0  \n",
              "1                           0  \n",
              "2                           0  \n",
              "3                           0  \n",
              "4                           0  \n",
              "...                       ...  \n",
              "48850                       1  \n",
              "48851                       0  \n",
              "48852                       0  \n",
              "48853                       0  \n",
              "48854                       0  \n",
              "\n",
              "[48855 rows x 40 columns]"
            ],
            "text/html": [
              "\n",
              "  <div id=\"df-8426fbe7-2dd0-4db5-aaa1-924213f82c0c\">\n",
              "    <div class=\"colab-df-container\">\n",
              "      <div>\n",
              "<style scoped>\n",
              "    .dataframe tbody tr th:only-of-type {\n",
              "        vertical-align: middle;\n",
              "    }\n",
              "\n",
              "    .dataframe tbody tr th {\n",
              "        vertical-align: top;\n",
              "    }\n",
              "\n",
              "    .dataframe thead th {\n",
              "        text-align: right;\n",
              "    }\n",
              "</style>\n",
              "<table border=\"1\" class=\"dataframe\">\n",
              "  <thead>\n",
              "    <tr style=\"text-align: right;\">\n",
              "      <th></th>\n",
              "      <th>capdiameter-</th>\n",
              "      <th>gill-attachment</th>\n",
              "      <th>gill-spacing</th>\n",
              "      <th>gill-color</th>\n",
              "      <th>stem-height</th>\n",
              "      <th>stem-width</th>\n",
              "      <th>stem-root</th>\n",
              "      <th>stem-surface</th>\n",
              "      <th>stem-color</th>\n",
              "      <th>veil-type</th>\n",
              "      <th>...</th>\n",
              "      <th>cap-surface_s</th>\n",
              "      <th>cap-surface_t</th>\n",
              "      <th>cap-surface_w</th>\n",
              "      <th>cap-surface_y</th>\n",
              "      <th>cap-color_0</th>\n",
              "      <th>cap-color_1</th>\n",
              "      <th>cap-color_2</th>\n",
              "      <th>cap-color_3</th>\n",
              "      <th>does-bruise-or-bleed_f</th>\n",
              "      <th>does-bruise-or-bleed_t</th>\n",
              "    </tr>\n",
              "  </thead>\n",
              "  <tbody>\n",
              "    <tr>\n",
              "      <th>0</th>\n",
              "      <td>7.87</td>\n",
              "      <td>s</td>\n",
              "      <td>NaN</td>\n",
              "      <td>n</td>\n",
              "      <td>9.49</td>\n",
              "      <td>12.09</td>\n",
              "      <td>NaN</td>\n",
              "      <td>t</td>\n",
              "      <td>n</td>\n",
              "      <td>NaN</td>\n",
              "      <td>...</td>\n",
              "      <td>0</td>\n",
              "      <td>0</td>\n",
              "      <td>0</td>\n",
              "      <td>0</td>\n",
              "      <td>0</td>\n",
              "      <td>0</td>\n",
              "      <td>0</td>\n",
              "      <td>1</td>\n",
              "      <td>1</td>\n",
              "      <td>0</td>\n",
              "    </tr>\n",
              "    <tr>\n",
              "      <th>1</th>\n",
              "      <td>2.76</td>\n",
              "      <td>p</td>\n",
              "      <td>NaN</td>\n",
              "      <td>e</td>\n",
              "      <td>4.19</td>\n",
              "      <td>8.59</td>\n",
              "      <td>NaN</td>\n",
              "      <td>NaN</td>\n",
              "      <td>n</td>\n",
              "      <td>NaN</td>\n",
              "      <td>...</td>\n",
              "      <td>0</td>\n",
              "      <td>0</td>\n",
              "      <td>0</td>\n",
              "      <td>0</td>\n",
              "      <td>0</td>\n",
              "      <td>0</td>\n",
              "      <td>1</td>\n",
              "      <td>0</td>\n",
              "      <td>1</td>\n",
              "      <td>0</td>\n",
              "    </tr>\n",
              "    <tr>\n",
              "      <th>2</th>\n",
              "      <td>3.00</td>\n",
              "      <td>s</td>\n",
              "      <td>c</td>\n",
              "      <td>p</td>\n",
              "      <td>4.87</td>\n",
              "      <td>8.15</td>\n",
              "      <td>NaN</td>\n",
              "      <td>NaN</td>\n",
              "      <td>w</td>\n",
              "      <td>NaN</td>\n",
              "      <td>...</td>\n",
              "      <td>0</td>\n",
              "      <td>1</td>\n",
              "      <td>0</td>\n",
              "      <td>0</td>\n",
              "      <td>0</td>\n",
              "      <td>0</td>\n",
              "      <td>1</td>\n",
              "      <td>0</td>\n",
              "      <td>1</td>\n",
              "      <td>0</td>\n",
              "    </tr>\n",
              "    <tr>\n",
              "      <th>3</th>\n",
              "      <td>6.14</td>\n",
              "      <td>e</td>\n",
              "      <td>NaN</td>\n",
              "      <td>w</td>\n",
              "      <td>7.20</td>\n",
              "      <td>13.51</td>\n",
              "      <td>NaN</td>\n",
              "      <td>y</td>\n",
              "      <td>w</td>\n",
              "      <td>u</td>\n",
              "      <td>...</td>\n",
              "      <td>0</td>\n",
              "      <td>0</td>\n",
              "      <td>0</td>\n",
              "      <td>0</td>\n",
              "      <td>0</td>\n",
              "      <td>0</td>\n",
              "      <td>1</td>\n",
              "      <td>0</td>\n",
              "      <td>1</td>\n",
              "      <td>0</td>\n",
              "    </tr>\n",
              "    <tr>\n",
              "      <th>4</th>\n",
              "      <td>10.55</td>\n",
              "      <td>a</td>\n",
              "      <td>c</td>\n",
              "      <td>n</td>\n",
              "      <td>12.10</td>\n",
              "      <td>14.13</td>\n",
              "      <td>NaN</td>\n",
              "      <td>y</td>\n",
              "      <td>y</td>\n",
              "      <td>NaN</td>\n",
              "      <td>...</td>\n",
              "      <td>0</td>\n",
              "      <td>0</td>\n",
              "      <td>0</td>\n",
              "      <td>1</td>\n",
              "      <td>0</td>\n",
              "      <td>0</td>\n",
              "      <td>1</td>\n",
              "      <td>1</td>\n",
              "      <td>1</td>\n",
              "      <td>0</td>\n",
              "    </tr>\n",
              "    <tr>\n",
              "      <th>...</th>\n",
              "      <td>...</td>\n",
              "      <td>...</td>\n",
              "      <td>...</td>\n",
              "      <td>...</td>\n",
              "      <td>...</td>\n",
              "      <td>...</td>\n",
              "      <td>...</td>\n",
              "      <td>...</td>\n",
              "      <td>...</td>\n",
              "      <td>...</td>\n",
              "      <td>...</td>\n",
              "      <td>...</td>\n",
              "      <td>...</td>\n",
              "      <td>...</td>\n",
              "      <td>...</td>\n",
              "      <td>...</td>\n",
              "      <td>...</td>\n",
              "      <td>...</td>\n",
              "      <td>...</td>\n",
              "      <td>...</td>\n",
              "      <td>...</td>\n",
              "    </tr>\n",
              "    <tr>\n",
              "      <th>48850</th>\n",
              "      <td>13.81</td>\n",
              "      <td>p</td>\n",
              "      <td>NaN</td>\n",
              "      <td>y</td>\n",
              "      <td>10.06</td>\n",
              "      <td>31.63</td>\n",
              "      <td>c</td>\n",
              "      <td>NaN</td>\n",
              "      <td>y</td>\n",
              "      <td>NaN</td>\n",
              "      <td>...</td>\n",
              "      <td>0</td>\n",
              "      <td>0</td>\n",
              "      <td>0</td>\n",
              "      <td>0</td>\n",
              "      <td>0</td>\n",
              "      <td>0</td>\n",
              "      <td>1</td>\n",
              "      <td>0</td>\n",
              "      <td>0</td>\n",
              "      <td>1</td>\n",
              "    </tr>\n",
              "    <tr>\n",
              "      <th>48851</th>\n",
              "      <td>2.69</td>\n",
              "      <td>d</td>\n",
              "      <td>d</td>\n",
              "      <td>p</td>\n",
              "      <td>3.76</td>\n",
              "      <td>2.41</td>\n",
              "      <td>NaN</td>\n",
              "      <td>h</td>\n",
              "      <td>w</td>\n",
              "      <td>NaN</td>\n",
              "      <td>...</td>\n",
              "      <td>0</td>\n",
              "      <td>0</td>\n",
              "      <td>0</td>\n",
              "      <td>0</td>\n",
              "      <td>0</td>\n",
              "      <td>1</td>\n",
              "      <td>1</td>\n",
              "      <td>0</td>\n",
              "      <td>1</td>\n",
              "      <td>0</td>\n",
              "    </tr>\n",
              "    <tr>\n",
              "      <th>48852</th>\n",
              "      <td>11.70</td>\n",
              "      <td>s</td>\n",
              "      <td>c</td>\n",
              "      <td>u</td>\n",
              "      <td>7.36</td>\n",
              "      <td>20.73</td>\n",
              "      <td>NaN</td>\n",
              "      <td>NaN</td>\n",
              "      <td>b</td>\n",
              "      <td>NaN</td>\n",
              "      <td>...</td>\n",
              "      <td>0</td>\n",
              "      <td>1</td>\n",
              "      <td>0</td>\n",
              "      <td>0</td>\n",
              "      <td>1</td>\n",
              "      <td>0</td>\n",
              "      <td>0</td>\n",
              "      <td>0</td>\n",
              "      <td>1</td>\n",
              "      <td>0</td>\n",
              "    </tr>\n",
              "    <tr>\n",
              "      <th>48853</th>\n",
              "      <td>2.83</td>\n",
              "      <td>a</td>\n",
              "      <td>c</td>\n",
              "      <td>u</td>\n",
              "      <td>5.76</td>\n",
              "      <td>5.59</td>\n",
              "      <td>NaN</td>\n",
              "      <td>s</td>\n",
              "      <td>u</td>\n",
              "      <td>NaN</td>\n",
              "      <td>...</td>\n",
              "      <td>0</td>\n",
              "      <td>0</td>\n",
              "      <td>1</td>\n",
              "      <td>0</td>\n",
              "      <td>0</td>\n",
              "      <td>1</td>\n",
              "      <td>1</td>\n",
              "      <td>1</td>\n",
              "      <td>1</td>\n",
              "      <td>0</td>\n",
              "    </tr>\n",
              "    <tr>\n",
              "      <th>48854</th>\n",
              "      <td>1.57</td>\n",
              "      <td>a</td>\n",
              "      <td>NaN</td>\n",
              "      <td>p</td>\n",
              "      <td>3.26</td>\n",
              "      <td>2.27</td>\n",
              "      <td>NaN</td>\n",
              "      <td>NaN</td>\n",
              "      <td>w</td>\n",
              "      <td>NaN</td>\n",
              "      <td>...</td>\n",
              "      <td>0</td>\n",
              "      <td>0</td>\n",
              "      <td>0</td>\n",
              "      <td>0</td>\n",
              "      <td>0</td>\n",
              "      <td>1</td>\n",
              "      <td>0</td>\n",
              "      <td>0</td>\n",
              "      <td>1</td>\n",
              "      <td>0</td>\n",
              "    </tr>\n",
              "  </tbody>\n",
              "</table>\n",
              "<p>48855 rows × 40 columns</p>\n",
              "</div>\n",
              "      <button class=\"colab-df-convert\" onclick=\"convertToInteractive('df-8426fbe7-2dd0-4db5-aaa1-924213f82c0c')\"\n",
              "              title=\"Convert this dataframe to an interactive table.\"\n",
              "              style=\"display:none;\">\n",
              "        \n",
              "  <svg xmlns=\"http://www.w3.org/2000/svg\" height=\"24px\"viewBox=\"0 0 24 24\"\n",
              "       width=\"24px\">\n",
              "    <path d=\"M0 0h24v24H0V0z\" fill=\"none\"/>\n",
              "    <path d=\"M18.56 5.44l.94 2.06.94-2.06 2.06-.94-2.06-.94-.94-2.06-.94 2.06-2.06.94zm-11 1L8.5 8.5l.94-2.06 2.06-.94-2.06-.94L8.5 2.5l-.94 2.06-2.06.94zm10 10l.94 2.06.94-2.06 2.06-.94-2.06-.94-.94-2.06-.94 2.06-2.06.94z\"/><path d=\"M17.41 7.96l-1.37-1.37c-.4-.4-.92-.59-1.43-.59-.52 0-1.04.2-1.43.59L10.3 9.45l-7.72 7.72c-.78.78-.78 2.05 0 2.83L4 21.41c.39.39.9.59 1.41.59.51 0 1.02-.2 1.41-.59l7.78-7.78 2.81-2.81c.8-.78.8-2.07 0-2.86zM5.41 20L4 18.59l7.72-7.72 1.47 1.35L5.41 20z\"/>\n",
              "  </svg>\n",
              "      </button>\n",
              "      \n",
              "  <style>\n",
              "    .colab-df-container {\n",
              "      display:flex;\n",
              "      flex-wrap:wrap;\n",
              "      gap: 12px;\n",
              "    }\n",
              "\n",
              "    .colab-df-convert {\n",
              "      background-color: #E8F0FE;\n",
              "      border: none;\n",
              "      border-radius: 50%;\n",
              "      cursor: pointer;\n",
              "      display: none;\n",
              "      fill: #1967D2;\n",
              "      height: 32px;\n",
              "      padding: 0 0 0 0;\n",
              "      width: 32px;\n",
              "    }\n",
              "\n",
              "    .colab-df-convert:hover {\n",
              "      background-color: #E2EBFA;\n",
              "      box-shadow: 0px 1px 2px rgba(60, 64, 67, 0.3), 0px 1px 3px 1px rgba(60, 64, 67, 0.15);\n",
              "      fill: #174EA6;\n",
              "    }\n",
              "\n",
              "    [theme=dark] .colab-df-convert {\n",
              "      background-color: #3B4455;\n",
              "      fill: #D2E3FC;\n",
              "    }\n",
              "\n",
              "    [theme=dark] .colab-df-convert:hover {\n",
              "      background-color: #434B5C;\n",
              "      box-shadow: 0px 1px 3px 1px rgba(0, 0, 0, 0.15);\n",
              "      filter: drop-shadow(0px 1px 2px rgba(0, 0, 0, 0.3));\n",
              "      fill: #FFFFFF;\n",
              "    }\n",
              "  </style>\n",
              "\n",
              "      <script>\n",
              "        const buttonEl =\n",
              "          document.querySelector('#df-8426fbe7-2dd0-4db5-aaa1-924213f82c0c button.colab-df-convert');\n",
              "        buttonEl.style.display =\n",
              "          google.colab.kernel.accessAllowed ? 'block' : 'none';\n",
              "\n",
              "        async function convertToInteractive(key) {\n",
              "          const element = document.querySelector('#df-8426fbe7-2dd0-4db5-aaa1-924213f82c0c');\n",
              "          const dataTable =\n",
              "            await google.colab.kernel.invokeFunction('convertToInteractive',\n",
              "                                                     [key], {});\n",
              "          if (!dataTable) return;\n",
              "\n",
              "          const docLinkHtml = 'Like what you see? Visit the ' +\n",
              "            '<a target=\"_blank\" href=https://colab.research.google.com/notebooks/data_table.ipynb>data table notebook</a>'\n",
              "            + ' to learn more about interactive tables.';\n",
              "          element.innerHTML = '';\n",
              "          dataTable['output_type'] = 'display_data';\n",
              "          await google.colab.output.renderOutput(dataTable, element);\n",
              "          const docLink = document.createElement('div');\n",
              "          docLink.innerHTML = docLinkHtml;\n",
              "          element.appendChild(docLink);\n",
              "        }\n",
              "      </script>\n",
              "    </div>\n",
              "  </div>\n",
              "  "
            ]
          },
          "metadata": {},
          "execution_count": 96
        }
      ]
    },
    {
      "cell_type": "markdown",
      "source": [
        "##**GILL-ATTACHMENT**  FALTAN DATOS ❗16.2%\n",
        "\n",
        "adnate=a, adnexed=x, decurrent=d, free=e,\n",
        "sinuate=s, pores=p, none=f, unknown=?\n"
      ],
      "metadata": {
        "id": "rZYKY2tgCArs"
      }
    },
    {
      "cell_type": "code",
      "source": [
        "X_train['gill-attachment'].value_counts()"
      ],
      "metadata": {
        "colab": {
          "base_uri": "https://localhost:8080/"
        },
        "id": "MFqJB66VCzU_",
        "outputId": "7b598808-dff9-44b3-ca37-4406a706c87d"
      },
      "execution_count": null,
      "outputs": [
        {
          "output_type": "execute_result",
          "data": {
            "text/plain": [
              "a    10113\n",
              "d     8257\n",
              "x     5946\n",
              "p     4852\n",
              "s     4506\n",
              "e     4495\n",
              "f     2802\n",
              "Name: gill-attachment, dtype: int64"
            ]
          },
          "metadata": {},
          "execution_count": 97
        }
      ]
    },
    {
      "cell_type": "code",
      "source": [
        "X_train['gill-attachment'] = X_train['gill-attachment'].fillna('a')\n",
        "X_test['gill-attachment'] = X_test['gill-attachment'].fillna('a')"
      ],
      "metadata": {
        "id": "BzYPz2DsDJVQ"
      },
      "execution_count": null,
      "outputs": []
    },
    {
      "cell_type": "code",
      "source": [
        "ohe_gillattachment = OneHotEncoder()\n",
        "encoded_gillattachment = pd.DataFrame(ohe_gillattachment.fit_transform(X_train[['gill-attachment']]).todense().astype(int))\n",
        "encoded_gillattachment.columns = ohe_gillattachment.get_feature_names_out(['gill-attachment'])\n",
        "\n",
        "encoded_gillattachment_test = pd.DataFrame(ohe_gillattachment.transform(X_test[['gill-attachment']]).todense().astype(int))\n",
        "encoded_gillattachment_test.columns = ohe_gillattachment.get_feature_names_out(['gill-attachment'])\n",
        "\n",
        "X_train = X_train.reset_index().drop(['index', 'gill-attachment'],axis=1).join(encoded_gillattachment)\n",
        "X_test = X_test.reset_index().drop(['index', 'gill-attachment'],axis=1).join(encoded_gillattachment_test)"
      ],
      "metadata": {
        "id": "dIx5X0kHK0FV"
      },
      "execution_count": null,
      "outputs": []
    },
    {
      "cell_type": "markdown",
      "source": [
        "## **GILL-SPACING** Espacio de las \"branquias\" FALTAN DATOS ❗41%"
      ],
      "metadata": {
        "id": "v-sVH6P1AfGI"
      }
    },
    {
      "cell_type": "markdown",
      "source": [
        "Como faltan datos, 28707 de 48885 -> 58%, relleno con la clase maxima"
      ],
      "metadata": {
        "id": "XY0T30nyAr9Y"
      }
    },
    {
      "cell_type": "code",
      "source": [
        "X_train['gill-spacing'].value_counts()"
      ],
      "metadata": {
        "colab": {
          "base_uri": "https://localhost:8080/"
        },
        "id": "OsXytlRzqbrs",
        "outputId": "d88a830e-4c9b-4909-d9a5-0c0430e988dd"
      },
      "execution_count": null,
      "outputs": [
        {
          "output_type": "execute_result",
          "data": {
            "text/plain": [
              "c    19799\n",
              "d     6266\n",
              "f     2802\n",
              "Name: gill-spacing, dtype: int64"
            ]
          },
          "metadata": {},
          "execution_count": 100
        }
      ]
    },
    {
      "cell_type": "code",
      "source": [
        "X_train['gill-spacing'] = X_train['gill-spacing'].fillna('c')\n",
        "X_test['gill-spacing'] = X_test['gill-spacing'].fillna('c')"
      ],
      "metadata": {
        "id": "XNW3kLGVBRGQ"
      },
      "execution_count": null,
      "outputs": []
    },
    {
      "cell_type": "code",
      "source": [
        "ohe_gillspacing = OneHotEncoder()\n",
        "encoded_gillspacing = pd.DataFrame(ohe_gillspacing.fit_transform(X_train[['gill-spacing']]).todense().astype(int))\n",
        "encoded_gillspacing.columns = ohe_gillspacing.get_feature_names_out(['gill-spacing'])\n",
        "\n",
        "\n",
        "encoded_gillspacing_test = pd.DataFrame(ohe_gillspacing.transform(X_test[['gill-spacing']]).todense().astype(int))\n",
        "encoded_gillspacing_test.columns = ohe_gillspacing.get_feature_names_out(['gill-spacing'])\n",
        "\n",
        "X_train = X_train.reset_index().drop(['index', 'gill-spacing'],axis=1).join(encoded_gillspacing)\n",
        "X_test = X_test.reset_index().drop(['index', 'gill-spacing'],axis=1).join(encoded_gillspacing_test)"
      ],
      "metadata": {
        "id": "wrat9h19BW52"
      },
      "execution_count": null,
      "outputs": []
    },
    {
      "cell_type": "markdown",
      "source": [
        "##**STEM-COLOR** Color del tallo\n",
        "\n",
        "see cap-color + none=f"
      ],
      "metadata": {
        "id": "xYI2_pWVz7hJ"
      }
    },
    {
      "cell_type": "code",
      "source": [
        "X_train['stem-color'].count()"
      ],
      "metadata": {
        "colab": {
          "base_uri": "https://localhost:8080/"
        },
        "id": "NdlLlbC7apf8",
        "outputId": "5e94abd9-e881-407f-fe8e-501964af01f2"
      },
      "execution_count": null,
      "outputs": [
        {
          "output_type": "execute_result",
          "data": {
            "text/plain": [
              "48855"
            ]
          },
          "metadata": {},
          "execution_count": 103
        }
      ]
    },
    {
      "cell_type": "code",
      "source": [
        "be_stemcolor = BinaryEncoder()\n",
        "\n",
        "encoded_stemcolor = be_stemcolor.fit_transform(X_train[['stem-color']])\n",
        "encoded_stemcolor_test = be_stemcolor.transform(X_test[['stem-color']])\n",
        "\n",
        "X_train = X_train.reset_index().drop(['index', 'stem-color'],axis=1).join(encoded_stemcolor)\n",
        "X_test = X_test.reset_index().drop(['index', 'stem-color'],axis=1).join(encoded_stemcolor_test)"
      ],
      "metadata": {
        "id": "dVeDylvN0bGI"
      },
      "execution_count": null,
      "outputs": []
    },
    {
      "cell_type": "markdown",
      "source": [
        "## **STEM-SURFACE** Superficie del tallo FALTAN DATOS ❗ 62.4%\n",
        "\n",
        "see cap-surface + none=f"
      ],
      "metadata": {
        "id": "Kwc2AoB7-RxY"
      }
    },
    {
      "cell_type": "markdown",
      "source": [
        "Como faltan datos, 18411 de 48885 -> 38%, relleno con nueva clase 'unknown'"
      ],
      "metadata": {
        "id": "Q1GXHcco-8BY"
      }
    },
    {
      "cell_type": "code",
      "source": [
        "X_train['stem-surface'].value_counts()"
      ],
      "metadata": {
        "colab": {
          "base_uri": "https://localhost:8080/"
        },
        "id": "38NoilrG-haA",
        "outputId": "5da8d69b-24ad-4a13-b4b1-fbf8257e7727"
      },
      "execution_count": null,
      "outputs": [
        {
          "output_type": "execute_result",
          "data": {
            "text/plain": [
              "s    4825\n",
              "y    3907\n",
              "i    3525\n",
              "t    2137\n",
              "g    1407\n",
              "k    1265\n",
              "f     824\n",
              "h     426\n",
              "Name: stem-surface, dtype: int64"
            ]
          },
          "metadata": {},
          "execution_count": 105
        }
      ]
    },
    {
      "cell_type": "code",
      "source": [
        "X_train['stem-surface'] = X_train['stem-surface'].map(lambda x : '?' if(pd.isna(x)) else x)\n",
        "X_test['stem-surface'] = X_test['stem-surface'].map(lambda x : '?' if(pd.isna(x)) else x)"
      ],
      "metadata": {
        "id": "Pi1EntL8_ArA"
      },
      "execution_count": null,
      "outputs": []
    },
    {
      "cell_type": "code",
      "source": [
        "ohe_stemsurface = OneHotEncoder()\n",
        "encoded_stemsurface = pd.DataFrame(ohe_stemsurface.fit_transform(X_train[['stem-surface']]).todense().astype(int))\n",
        "encoded_stemsurface.columns = ohe_stemsurface.get_feature_names_out(['stem-surface'])\n",
        "\n",
        "encoded_stemsurface_test = pd.DataFrame(ohe_stemsurface.transform(X_test[['stem-surface']]).todense().astype(int))\n",
        "encoded_stemsurface_test.columns = ohe_stemsurface.get_feature_names_out(['stem-surface'])\n",
        "\n",
        "X_train = X_train.reset_index().drop(['index', 'stem-surface'],axis=1).join(encoded_stemsurface)\n",
        "X_test = X_test.reset_index().drop(['index', 'stem-surface'],axis=1).join(encoded_stemsurface_test)"
      ],
      "metadata": {
        "id": "E3CssK5R_Fx4"
      },
      "execution_count": null,
      "outputs": []
    },
    {
      "cell_type": "markdown",
      "source": [
        "##**STEM-ROOT** Raiz del tallo FALTAN DATOS ❗84.4%\n",
        "\n",
        "bulbous=b, swollen=s, club=c, cup=u, equal=e,\n",
        "rhizomorphs=z, rooted=r\n"
      ],
      "metadata": {
        "id": "74CB7OSjJgBd"
      }
    },
    {
      "cell_type": "markdown",
      "source": [
        "Como faltan datos, 7729 de 48885 -> 16%, relleno con nueva clase 'unknown'."
      ],
      "metadata": {
        "id": "--d3TG6LLBoV"
      }
    },
    {
      "cell_type": "code",
      "source": [
        "X_train['stem-root'].value_counts()"
      ],
      "metadata": {
        "colab": {
          "base_uri": "https://localhost:8080/"
        },
        "id": "F4PvzWiNJ_LU",
        "outputId": "c71eae61-7a73-4276-e2c0-60a8ea357eba"
      },
      "execution_count": null,
      "outputs": [
        {
          "output_type": "execute_result",
          "data": {
            "text/plain": [
              "s    2541\n",
              "b    2507\n",
              "r    1142\n",
              "f     824\n",
              "c     590\n",
              "Name: stem-root, dtype: int64"
            ]
          },
          "metadata": {},
          "execution_count": 108
        }
      ]
    },
    {
      "cell_type": "code",
      "source": [
        "X_train['stem-root'] = X_train['stem-root'].fillna('?')\n",
        "X_test['stem-root'] = X_test['stem-root'].fillna('?')"
      ],
      "metadata": {
        "id": "vmast_tOagKR"
      },
      "execution_count": null,
      "outputs": []
    },
    {
      "cell_type": "code",
      "source": [
        "ohe_stemroot = OneHotEncoder()\n",
        "encoded_stemroot = pd.DataFrame(ohe_stemroot.fit_transform(X_train[['stem-root']]).todense().astype(int))\n",
        "encoded_stemroot.columns = ohe_stemroot.get_feature_names_out(['stem-root'])\n",
        "\n",
        "\n",
        "encoded_stemroot_test = pd.DataFrame(ohe_stemroot.transform(X_test[['stem-root']]).todense().astype(int))\n",
        "encoded_stemroot_test.columns = ohe_stemroot.get_feature_names_out(['stem-root'])\n",
        "\n",
        "X_train = X_train.reset_index().drop(['index', 'stem-root'],axis=1).join(encoded_stemroot)\n",
        "X_test = X_test.reset_index().drop(['index', 'stem-root'],axis=1).join(encoded_stemroot_test)"
      ],
      "metadata": {
        "id": "EUEGC3pMLuwl"
      },
      "execution_count": null,
      "outputs": []
    },
    {
      "cell_type": "markdown",
      "source": [
        "##**VEIL-TYPE**: tipo de velo FALTAN DATOS ❗94.8%\n",
        "\n",
        "partial=p, universal=u"
      ],
      "metadata": {
        "id": "skPFiG4bMbTF"
      }
    },
    {
      "cell_type": "markdown",
      "source": [
        "Como faltan datos, 2573 de 48885 -> 5%, relleno con nueva clase 'unknown'."
      ],
      "metadata": {
        "id": "lPS1O3mdNInN"
      }
    },
    {
      "cell_type": "code",
      "source": [
        "X_train['veil-type'].value_counts()"
      ],
      "metadata": {
        "colab": {
          "base_uri": "https://localhost:8080/"
        },
        "id": "SGuEsgGVM_Gt",
        "outputId": "46f128e1-0f8d-4722-8a7a-66e1e8835197"
      },
      "execution_count": null,
      "outputs": [
        {
          "output_type": "execute_result",
          "data": {
            "text/plain": [
              "u    2517\n",
              "Name: veil-type, dtype: int64"
            ]
          },
          "metadata": {},
          "execution_count": 111
        }
      ]
    },
    {
      "cell_type": "code",
      "source": [
        "X_train['veil-type'] = X_train['veil-type'].fillna('?')\n",
        "X_test['veil-type'] = X_test['veil-type'].fillna('?')"
      ],
      "metadata": {
        "id": "H9WCGyOHNbRF"
      },
      "execution_count": null,
      "outputs": []
    },
    {
      "cell_type": "code",
      "source": [
        "ohe_veiltype = OneHotEncoder()\n",
        "encoded_veiltype = pd.DataFrame(ohe_veiltype.fit_transform(X_train[['veil-type']]).todense().astype(int))\n",
        "encoded_veiltype.columns = ohe_veiltype.get_feature_names_out(['veil-type'])\n",
        "\n",
        "\n",
        "encoded_veiltype_test = pd.DataFrame(ohe_veiltype.transform(X_test[['veil-type']]).todense().astype(int))\n",
        "encoded_veiltype_test.columns = ohe_veiltype.get_feature_names_out(['veil-type'])\n",
        "\n",
        "X_train = X_train.reset_index().drop(['index', 'veil-type'],axis=1).join(encoded_veiltype)\n",
        "X_test = X_test.reset_index().drop(['index', 'veil-type'],axis=1).join(encoded_veiltype_test)"
      ],
      "metadata": {
        "id": "X9kiUmfcNi29"
      },
      "execution_count": null,
      "outputs": []
    },
    {
      "cell_type": "markdown",
      "source": [
        " ## **VEIL-COLOR** Color del velo FALTAN DATOS ❗87.9%\n",
        "\n",
        " cap-color + none=f"
      ],
      "metadata": {
        "id": "shV1VXmRTH3L"
      }
    },
    {
      "cell_type": "markdown",
      "source": [
        "Como faltan datos, 5983 de 48885 -> 12%, relleno con nueva clase 'unknown'."
      ],
      "metadata": {
        "id": "o2AINLCmToTo"
      }
    },
    {
      "cell_type": "code",
      "source": [
        "X_train['veil-color'].value_counts()"
      ],
      "metadata": {
        "colab": {
          "base_uri": "https://localhost:8080/"
        },
        "id": "dWDG_pb4rroB",
        "outputId": "78b1c869-009f-4a8a-fda9-b9f9b827697a"
      },
      "execution_count": null,
      "outputs": [
        {
          "output_type": "execute_result",
          "data": {
            "text/plain": [
              "w    4327\n",
              "y     436\n",
              "n     435\n",
              "k     294\n",
              "u     277\n",
              "e     143\n",
              "Name: veil-color, dtype: int64"
            ]
          },
          "metadata": {},
          "execution_count": 114
        }
      ]
    },
    {
      "cell_type": "code",
      "source": [
        "X_train['veil-color'] = X_train['veil-color'].fillna('?')\n",
        "X_test['veil-color'] = X_test['veil-color'].fillna('?')"
      ],
      "metadata": {
        "id": "X4JuL61ATaop"
      },
      "execution_count": null,
      "outputs": []
    },
    {
      "cell_type": "code",
      "source": [
        "be_veilcolor = BinaryEncoder()\n",
        "\n",
        "encoded_veilcolor = be_veilcolor.fit_transform(X_train[['veil-color']])\n",
        "encoded_veilcolor_test = be_veilcolor.transform(X_test[['veil-color']])\n",
        "\n",
        "X_train = X_train.reset_index().drop(['index', 'veil-color'],axis=1).join(encoded_veilcolor)\n",
        "X_test = X_test.reset_index().drop(['index', 'veil-color'],axis=1).join(encoded_veilcolor_test)"
      ],
      "metadata": {
        "id": "JoU8DZxxT3dI"
      },
      "execution_count": null,
      "outputs": []
    },
    {
      "cell_type": "markdown",
      "source": [
        "## **RING-TYPE**: Tipo de anillo FALTAN DATOS ❗0.04%\n",
        "\n",
        "cobwebby=c, evanescent=e, flaring=r, grooved=g,\n",
        "large=l, pendant=p, sheathing=s, zone=z, scaly=y, movable=m, none=f, unknown=?"
      ],
      "metadata": {
        "id": "JkFKWtELUUoa"
      }
    },
    {
      "cell_type": "markdown",
      "source": [
        "Como faltan datos, 46874 de 48885 -> 96%, relleno con nueva clase 'unknown' porque los nan que faltan representan algo en este caso."
      ],
      "metadata": {
        "id": "JpBq1HKx644X"
      }
    },
    {
      "cell_type": "code",
      "source": [
        "X_train['ring-type'].value_counts()"
      ],
      "metadata": {
        "id": "VKanGzA5U6FQ",
        "colab": {
          "base_uri": "https://localhost:8080/"
        },
        "outputId": "8ed46e86-b086-4c70-c936-db398c0c8cbd"
      },
      "execution_count": null,
      "outputs": [
        {
          "output_type": "execute_result",
          "data": {
            "text/plain": [
              "f    38737\n",
              "e     1921\n",
              "z     1679\n",
              "l     1157\n",
              "r     1138\n",
              "p      991\n",
              "g      961\n",
              "m      276\n",
              "Name: ring-type, dtype: int64"
            ]
          },
          "metadata": {},
          "execution_count": 117
        }
      ]
    },
    {
      "cell_type": "code",
      "source": [
        "X_train['ring-type'] = X_train['ring-type'].fillna('f')\n",
        "X_test['ring-type'] = X_test['ring-type'].fillna('f')"
      ],
      "metadata": {
        "id": "XNoA7Bzh7VwI"
      },
      "execution_count": null,
      "outputs": []
    },
    {
      "cell_type": "code",
      "source": [
        "be_ringtype = BinaryEncoder()\n",
        "\n",
        "encoded_ringtype = be_ringtype.fit_transform(X_train[['ring-type']])\n",
        "encoded_ringtype_test = be_ringtype.transform(X_test[['ring-type']])\n",
        "\n",
        "X_train = X_train.reset_index().drop(['index', 'ring-type'],axis=1).join(encoded_ringtype)\n",
        "X_test = X_test.reset_index().drop(['index', 'ring-type'],axis=1).join(encoded_ringtype_test)"
      ],
      "metadata": {
        "id": "u3HHf9Qp7cBY"
      },
      "execution_count": null,
      "outputs": []
    },
    {
      "cell_type": "markdown",
      "source": [
        "##**SPORE-PRINT-COLOR**  Color print esporas FALTAN DATOS ❗89.6%\n",
        "\n",
        "see cap color"
      ],
      "metadata": {
        "id": "e5H4fLB6UpMg"
      }
    },
    {
      "cell_type": "markdown",
      "source": [
        "Como faltan datos, 5084 de 48885 -> 10%, relleno con nueva clase 'unknown'"
      ],
      "metadata": {
        "id": "C_zgPf6m78UB"
      }
    },
    {
      "cell_type": "code",
      "source": [
        "X_train['spore-print-color'].value_counts()"
      ],
      "metadata": {
        "colab": {
          "base_uri": "https://localhost:8080/"
        },
        "id": "DV0LWWE-7qZ3",
        "outputId": "1bf32c23-88c6-4f74-e991-b62a23e16252"
      },
      "execution_count": null,
      "outputs": [
        {
          "output_type": "execute_result",
          "data": {
            "text/plain": [
              "k    1720\n",
              "p    1015\n",
              "w     990\n",
              "n     855\n",
              "g     281\n",
              "r     143\n",
              "u     131\n",
              "Name: spore-print-color, dtype: int64"
            ]
          },
          "metadata": {},
          "execution_count": 120
        }
      ]
    },
    {
      "cell_type": "code",
      "source": [
        "X_train['spore-print-color'] = X_train['spore-print-color'].fillna('?')\n",
        "X_test['spore-print-color'] = X_test['spore-print-color'].fillna('?')"
      ],
      "metadata": {
        "id": "uLBB6lAC8lcA"
      },
      "execution_count": null,
      "outputs": []
    },
    {
      "cell_type": "code",
      "source": [
        "ohe_sporeprint = OneHotEncoder()\n",
        "encoded_sporeprint = pd.DataFrame(ohe_sporeprint.fit_transform(X_train[['spore-print-color']]).todense().astype(int))\n",
        "encoded_sporeprint.columns = ohe_sporeprint.get_feature_names_out(['spore-print-color'])\n",
        "\n",
        "\n",
        "encoded_sporeprint_test = pd.DataFrame(ohe_sporeprint.transform(X_test[['spore-print-color']]).todense().astype(int))\n",
        "encoded_sporeprint_test.columns = ohe_sporeprint.get_feature_names_out(['spore-print-color'])\n",
        "\n",
        "X_train = X_train.reset_index().drop(['index', 'spore-print-color'],axis=1).join(encoded_sporeprint)\n",
        "X_test = X_test.reset_index().drop(['index', 'spore-print-color'],axis=1).join(encoded_sporeprint_test)"
      ],
      "metadata": {
        "id": "hKksV9LT8L-B"
      },
      "execution_count": null,
      "outputs": []
    },
    {
      "cell_type": "markdown",
      "source": [
        "##**HAS-RING** Tiene anillo\n",
        "\n",
        " ring=t, none=f"
      ],
      "metadata": {
        "id": "MUEnEKON0l0i"
      }
    },
    {
      "cell_type": "code",
      "source": [
        "X_train['has-ring'].value_counts()"
      ],
      "metadata": {
        "colab": {
          "base_uri": "https://localhost:8080/"
        },
        "id": "FHJ7teCFbwmc",
        "outputId": "a7523b4d-8c96-433b-f73d-caba42ca09fe"
      },
      "execution_count": null,
      "outputs": [
        {
          "output_type": "execute_result",
          "data": {
            "text/plain": [
              "f    36758\n",
              "t    12097\n",
              "Name: has-ring, dtype: int64"
            ]
          },
          "metadata": {},
          "execution_count": 123
        }
      ]
    },
    {
      "cell_type": "code",
      "source": [
        "ohe_hasring = OneHotEncoder()\n",
        "encoded_hasring = pd.DataFrame(ohe_hasring.fit_transform(X_train[['has-ring']]).todense().astype(int))\n",
        "encoded_hasring.columns = ohe_hasring.get_feature_names_out(['has-ring'])\n",
        "\n",
        "\n",
        "encoded_hasring_test = pd.DataFrame(ohe_hasring.transform(X_test[['has-ring']]).todense().astype(int))\n",
        "encoded_hasring_test.columns = ohe_hasring.get_feature_names_out(['has-ring'])\n",
        "\n",
        "X_train = X_train.reset_index().drop(['index', 'has-ring'],axis=1).join(encoded_hasring)\n",
        "X_test = X_test.reset_index().drop(['index', 'has-ring'],axis=1).join(encoded_hasring_test)"
      ],
      "metadata": {
        "id": "L6BnLY-a1Wju"
      },
      "execution_count": null,
      "outputs": []
    },
    {
      "cell_type": "markdown",
      "source": [
        "##**HABITAT** Hábitat del hongo\n",
        "\n",
        "grasses=g, leaves=l, meadows=m, paths=p, heaths=h,\n",
        "urban=u, waste=w, woods=d"
      ],
      "metadata": {
        "id": "lQ1tgBOf12Qv"
      }
    },
    {
      "cell_type": "code",
      "source": [
        "X_train['habitat'].value_counts()"
      ],
      "metadata": {
        "colab": {
          "base_uri": "https://localhost:8080/"
        },
        "id": "Pz3AAW65b4x0",
        "outputId": "d9020f0f-e8f0-4c91-ec2b-11832542c99e"
      },
      "execution_count": null,
      "outputs": [
        {
          "output_type": "execute_result",
          "data": {
            "text/plain": [
              "d    35339\n",
              "g     6375\n",
              "l     2526\n",
              "m     2332\n",
              "h     1615\n",
              "p      290\n",
              "w      286\n",
              "u       92\n",
              "Name: habitat, dtype: int64"
            ]
          },
          "metadata": {},
          "execution_count": 125
        }
      ]
    },
    {
      "cell_type": "code",
      "source": [
        "ohe_habitat = OneHotEncoder()\n",
        "encoded_habitat = pd.DataFrame(ohe_habitat.fit_transform(X_train[['habitat']]).todense().astype(int))\n",
        "encoded_habitat.columns = ohe_habitat.get_feature_names_out(['habitat'])\n",
        "\n",
        "\n",
        "encoded_habitat_test = pd.DataFrame(ohe_habitat.transform(X_test[['habitat']]).todense().astype(int))\n",
        "encoded_habitat_test.columns = ohe_habitat.get_feature_names_out(['habitat'])\n",
        "\n",
        "X_train = X_train.reset_index().drop(['index', 'habitat'],axis=1).join(encoded_habitat)\n",
        "X_test = X_test.reset_index().drop(['index', 'habitat'],axis=1).join(encoded_habitat_test)"
      ],
      "metadata": {
        "id": "lJbkMVnv110G"
      },
      "execution_count": null,
      "outputs": []
    },
    {
      "cell_type": "markdown",
      "source": [
        "##**SEASON** Estación del hongo\n",
        "\n",
        "spring=s, summer=u, autumn=a, winter=w"
      ],
      "metadata": {
        "id": "E8XzpX_c2fyw"
      }
    },
    {
      "cell_type": "code",
      "source": [
        "X_train['season'].value_counts()"
      ],
      "metadata": {
        "colab": {
          "base_uri": "https://localhost:8080/"
        },
        "id": "gQsEI7OMb9pd",
        "outputId": "479b97c9-f569-4488-ff20-9d6493763340"
      },
      "execution_count": null,
      "outputs": [
        {
          "output_type": "execute_result",
          "data": {
            "text/plain": [
              "a    24167\n",
              "u    18353\n",
              "w     4205\n",
              "s     2130\n",
              "Name: season, dtype: int64"
            ]
          },
          "metadata": {},
          "execution_count": 127
        }
      ]
    },
    {
      "cell_type": "code",
      "source": [
        "ohe_season = OneHotEncoder()\n",
        "encoded_season = pd.DataFrame(ohe_season.fit_transform(X_train[['season']]).todense().astype(int))\n",
        "encoded_season.columns = ohe_season.get_feature_names_out(['season'])\n",
        "\n",
        "\n",
        "encoded_season_test = pd.DataFrame(ohe_season.transform(X_test[['season']]).todense().astype(int))\n",
        "encoded_season_test.columns = ohe_season.get_feature_names_out(['season'])\n",
        "\n",
        "X_train = X_train.reset_index().drop(['index', 'season'],axis=1).join(encoded_season)\n",
        "X_test = X_test.reset_index().drop(['index', 'season'],axis=1).join(encoded_season_test)"
      ],
      "metadata": {
        "id": "rrN_jwUu2rbo"
      },
      "execution_count": null,
      "outputs": []
    },
    {
      "cell_type": "markdown",
      "source": [
        "##**GILL-COLOR** color de las \"branquias\"\n",
        "\n",
        "see cap-color + none=f"
      ],
      "metadata": {
        "id": "qFnkh2sqy1Hk"
      }
    },
    {
      "cell_type": "code",
      "source": [
        "X_train['gill-color'].count()"
      ],
      "metadata": {
        "colab": {
          "base_uri": "https://localhost:8080/"
        },
        "id": "lig508qPahdt",
        "outputId": "e07fe6c2-9868-405c-890b-d080a891f390"
      },
      "execution_count": null,
      "outputs": [
        {
          "output_type": "execute_result",
          "data": {
            "text/plain": [
              "48855"
            ]
          },
          "metadata": {},
          "execution_count": 129
        }
      ]
    },
    {
      "cell_type": "markdown",
      "source": [
        "### MEAN ENCODING"
      ],
      "metadata": {
        "id": "D8CRYWfohHrk"
      }
    },
    {
      "cell_type": "code",
      "source": [
        "column_train = pd.DataFrame(X_train['gill-color'])\n",
        "mean_encoding_train = column_train.join(y_train)\n",
        "mean_encoding_train[\"mean_encoded\"] = mean_encoding_train.groupby(\"gill-color\")[\"class\"].transform(\"mean\")\n",
        "X_train['gill-color'] = mean_encoding_train['mean_encoded']\n",
        "\n",
        "column_test = pd.DataFrame(X_test['gill-color'])\n",
        "mean_encoding_test = column_test.join(y_test)\n",
        "mean_encoding_test[\"mean_encoded\"] = mean_encoding_test.groupby(\"gill-color\")[\"class\"].transform(\"mean\")\n",
        "X_test['gill-color'] = mean_encoding_test['mean_encoded']"
      ],
      "metadata": {
        "id": "yTiEIJkpS41n"
      },
      "execution_count": null,
      "outputs": []
    },
    {
      "cell_type": "markdown",
      "source": [
        "### BINARY ENCODING comentar el mean y descomentar binary"
      ],
      "metadata": {
        "id": "ZSPOqmn0hLwL"
      }
    },
    {
      "cell_type": "code",
      "source": [
        "#be_gillcolor = BinaryEncoder()\n",
        "\n",
        "#encoded_gillcolor = be_gillcolor.fit_transform(X_train[['gill-color']])\n",
        "#encoded_gillcolor_test = be_gillcolor.transform(X_test[['gill-color']])\n",
        "\n",
        "#X_train = X_train.reset_index().drop(['index', 'gill-color'],axis=1).join(encoded_gillcolor)\n",
        "#X_test = X_test.reset_index().drop(['index', 'gill-color'],axis=1).join(encoded_gillcolor_test)"
      ],
      "metadata": {
        "id": "E3lxc-dSzzJ4"
      },
      "execution_count": null,
      "outputs": []
    },
    {
      "cell_type": "markdown",
      "source": [
        "# **RESULTADOS DEL ENCODING** "
      ],
      "metadata": {
        "id": "REBXuzj-_RK3"
      }
    },
    {
      "cell_type": "code",
      "source": [
        "X_train"
      ],
      "metadata": {
        "colab": {
          "base_uri": "https://localhost:8080/"
        },
        "id": "-29c17SP9Bco",
        "outputId": "19278611-bbd3-4ed2-865b-a8cedefb4b9b"
      },
      "execution_count": null,
      "outputs": [
        {
          "output_type": "execute_result",
          "data": {
            "text/plain": [
              "       capdiameter-  stem-height  stem-width  cap-shape_b  cap-shape_c  \\\n",
              "0              5.84         6.74       13.10            0            1   \n",
              "1              6.88         4.77       10.07            0            0   \n",
              "2              4.62         4.32        9.52            0            0   \n",
              "3              6.90         6.75        7.28            0            0   \n",
              "4              1.10         3.81        2.64            1            0   \n",
              "...             ...          ...         ...          ...          ...   \n",
              "48850          6.79         4.35       11.72            0            0   \n",
              "48851          3.75         5.05       10.62            0            0   \n",
              "48852          3.25         5.59        6.36            0            0   \n",
              "48853          2.46         3.25        3.50            0            1   \n",
              "48854          7.25         6.86       12.74            0            0   \n",
              "\n",
              "       cap-shape_f  cap-shape_o  cap-shape_p  cap-shape_s  cap-shape_x  ...  \\\n",
              "0                0            0            0            0            0  ...   \n",
              "1                0            0            0            0            1  ...   \n",
              "2                0            0            0            0            1  ...   \n",
              "3                0            0            0            1            0  ...   \n",
              "4                0            0            0            0            0  ...   \n",
              "...            ...          ...          ...          ...          ...  ...   \n",
              "48850            0            0            0            1            0  ...   \n",
              "48851            0            0            0            0            1  ...   \n",
              "48852            0            0            0            1            0  ...   \n",
              "48853            0            0            0            0            0  ...   \n",
              "48854            0            0            0            0            1  ...   \n",
              "\n",
              "       habitat_u  habitat_w  season_a  season_s  season_u  season_w  \\\n",
              "0              0          0         0         0         1         0   \n",
              "1              0          0         1         0         0         0   \n",
              "2              0          0         0         0         1         0   \n",
              "3              0          0         1         0         0         0   \n",
              "4              0          0         1         0         0         0   \n",
              "...          ...        ...       ...       ...       ...       ...   \n",
              "48850          0          0         0         0         1         0   \n",
              "48851          0          0         1         0         0         0   \n",
              "48852          0          0         0         0         1         0   \n",
              "48853          0          0         1         0         0         0   \n",
              "48854          0          0         0         0         1         0   \n",
              "\n",
              "       gill-color_0  gill-color_1  gill-color_2  gill-color_3  \n",
              "0                 0             0             0             1  \n",
              "1                 0             0             0             1  \n",
              "2                 0             0             1             0  \n",
              "3                 0             0             1             1  \n",
              "4                 0             1             0             0  \n",
              "...             ...           ...           ...           ...  \n",
              "48850             0             1             0             0  \n",
              "48851             1             0             1             1  \n",
              "48852             0             0             1             1  \n",
              "48853             1             0             0             0  \n",
              "48854             0             0             1             1  \n",
              "\n",
              "[48855 rows x 91 columns]"
            ],
            "text/html": [
              "\n",
              "  <div id=\"df-4fda35e4-90eb-4601-a55b-a29d4a6f91d9\">\n",
              "    <div class=\"colab-df-container\">\n",
              "      <div>\n",
              "<style scoped>\n",
              "    .dataframe tbody tr th:only-of-type {\n",
              "        vertical-align: middle;\n",
              "    }\n",
              "\n",
              "    .dataframe tbody tr th {\n",
              "        vertical-align: top;\n",
              "    }\n",
              "\n",
              "    .dataframe thead th {\n",
              "        text-align: right;\n",
              "    }\n",
              "</style>\n",
              "<table border=\"1\" class=\"dataframe\">\n",
              "  <thead>\n",
              "    <tr style=\"text-align: right;\">\n",
              "      <th></th>\n",
              "      <th>capdiameter-</th>\n",
              "      <th>stem-height</th>\n",
              "      <th>stem-width</th>\n",
              "      <th>cap-shape_b</th>\n",
              "      <th>cap-shape_c</th>\n",
              "      <th>cap-shape_f</th>\n",
              "      <th>cap-shape_o</th>\n",
              "      <th>cap-shape_p</th>\n",
              "      <th>cap-shape_s</th>\n",
              "      <th>cap-shape_x</th>\n",
              "      <th>...</th>\n",
              "      <th>habitat_u</th>\n",
              "      <th>habitat_w</th>\n",
              "      <th>season_a</th>\n",
              "      <th>season_s</th>\n",
              "      <th>season_u</th>\n",
              "      <th>season_w</th>\n",
              "      <th>gill-color_0</th>\n",
              "      <th>gill-color_1</th>\n",
              "      <th>gill-color_2</th>\n",
              "      <th>gill-color_3</th>\n",
              "    </tr>\n",
              "  </thead>\n",
              "  <tbody>\n",
              "    <tr>\n",
              "      <th>0</th>\n",
              "      <td>5.84</td>\n",
              "      <td>6.74</td>\n",
              "      <td>13.10</td>\n",
              "      <td>0</td>\n",
              "      <td>1</td>\n",
              "      <td>0</td>\n",
              "      <td>0</td>\n",
              "      <td>0</td>\n",
              "      <td>0</td>\n",
              "      <td>0</td>\n",
              "      <td>...</td>\n",
              "      <td>0</td>\n",
              "      <td>0</td>\n",
              "      <td>0</td>\n",
              "      <td>0</td>\n",
              "      <td>1</td>\n",
              "      <td>0</td>\n",
              "      <td>0</td>\n",
              "      <td>0</td>\n",
              "      <td>0</td>\n",
              "      <td>1</td>\n",
              "    </tr>\n",
              "    <tr>\n",
              "      <th>1</th>\n",
              "      <td>6.88</td>\n",
              "      <td>4.77</td>\n",
              "      <td>10.07</td>\n",
              "      <td>0</td>\n",
              "      <td>0</td>\n",
              "      <td>0</td>\n",
              "      <td>0</td>\n",
              "      <td>0</td>\n",
              "      <td>0</td>\n",
              "      <td>1</td>\n",
              "      <td>...</td>\n",
              "      <td>0</td>\n",
              "      <td>0</td>\n",
              "      <td>1</td>\n",
              "      <td>0</td>\n",
              "      <td>0</td>\n",
              "      <td>0</td>\n",
              "      <td>0</td>\n",
              "      <td>0</td>\n",
              "      <td>0</td>\n",
              "      <td>1</td>\n",
              "    </tr>\n",
              "    <tr>\n",
              "      <th>2</th>\n",
              "      <td>4.62</td>\n",
              "      <td>4.32</td>\n",
              "      <td>9.52</td>\n",
              "      <td>0</td>\n",
              "      <td>0</td>\n",
              "      <td>0</td>\n",
              "      <td>0</td>\n",
              "      <td>0</td>\n",
              "      <td>0</td>\n",
              "      <td>1</td>\n",
              "      <td>...</td>\n",
              "      <td>0</td>\n",
              "      <td>0</td>\n",
              "      <td>0</td>\n",
              "      <td>0</td>\n",
              "      <td>1</td>\n",
              "      <td>0</td>\n",
              "      <td>0</td>\n",
              "      <td>0</td>\n",
              "      <td>1</td>\n",
              "      <td>0</td>\n",
              "    </tr>\n",
              "    <tr>\n",
              "      <th>3</th>\n",
              "      <td>6.90</td>\n",
              "      <td>6.75</td>\n",
              "      <td>7.28</td>\n",
              "      <td>0</td>\n",
              "      <td>0</td>\n",
              "      <td>0</td>\n",
              "      <td>0</td>\n",
              "      <td>0</td>\n",
              "      <td>1</td>\n",
              "      <td>0</td>\n",
              "      <td>...</td>\n",
              "      <td>0</td>\n",
              "      <td>0</td>\n",
              "      <td>1</td>\n",
              "      <td>0</td>\n",
              "      <td>0</td>\n",
              "      <td>0</td>\n",
              "      <td>0</td>\n",
              "      <td>0</td>\n",
              "      <td>1</td>\n",
              "      <td>1</td>\n",
              "    </tr>\n",
              "    <tr>\n",
              "      <th>4</th>\n",
              "      <td>1.10</td>\n",
              "      <td>3.81</td>\n",
              "      <td>2.64</td>\n",
              "      <td>1</td>\n",
              "      <td>0</td>\n",
              "      <td>0</td>\n",
              "      <td>0</td>\n",
              "      <td>0</td>\n",
              "      <td>0</td>\n",
              "      <td>0</td>\n",
              "      <td>...</td>\n",
              "      <td>0</td>\n",
              "      <td>0</td>\n",
              "      <td>1</td>\n",
              "      <td>0</td>\n",
              "      <td>0</td>\n",
              "      <td>0</td>\n",
              "      <td>0</td>\n",
              "      <td>1</td>\n",
              "      <td>0</td>\n",
              "      <td>0</td>\n",
              "    </tr>\n",
              "    <tr>\n",
              "      <th>...</th>\n",
              "      <td>...</td>\n",
              "      <td>...</td>\n",
              "      <td>...</td>\n",
              "      <td>...</td>\n",
              "      <td>...</td>\n",
              "      <td>...</td>\n",
              "      <td>...</td>\n",
              "      <td>...</td>\n",
              "      <td>...</td>\n",
              "      <td>...</td>\n",
              "      <td>...</td>\n",
              "      <td>...</td>\n",
              "      <td>...</td>\n",
              "      <td>...</td>\n",
              "      <td>...</td>\n",
              "      <td>...</td>\n",
              "      <td>...</td>\n",
              "      <td>...</td>\n",
              "      <td>...</td>\n",
              "      <td>...</td>\n",
              "      <td>...</td>\n",
              "    </tr>\n",
              "    <tr>\n",
              "      <th>48850</th>\n",
              "      <td>6.79</td>\n",
              "      <td>4.35</td>\n",
              "      <td>11.72</td>\n",
              "      <td>0</td>\n",
              "      <td>0</td>\n",
              "      <td>0</td>\n",
              "      <td>0</td>\n",
              "      <td>0</td>\n",
              "      <td>1</td>\n",
              "      <td>0</td>\n",
              "      <td>...</td>\n",
              "      <td>0</td>\n",
              "      <td>0</td>\n",
              "      <td>0</td>\n",
              "      <td>0</td>\n",
              "      <td>1</td>\n",
              "      <td>0</td>\n",
              "      <td>0</td>\n",
              "      <td>1</td>\n",
              "      <td>0</td>\n",
              "      <td>0</td>\n",
              "    </tr>\n",
              "    <tr>\n",
              "      <th>48851</th>\n",
              "      <td>3.75</td>\n",
              "      <td>5.05</td>\n",
              "      <td>10.62</td>\n",
              "      <td>0</td>\n",
              "      <td>0</td>\n",
              "      <td>0</td>\n",
              "      <td>0</td>\n",
              "      <td>0</td>\n",
              "      <td>0</td>\n",
              "      <td>1</td>\n",
              "      <td>...</td>\n",
              "      <td>0</td>\n",
              "      <td>0</td>\n",
              "      <td>1</td>\n",
              "      <td>0</td>\n",
              "      <td>0</td>\n",
              "      <td>0</td>\n",
              "      <td>1</td>\n",
              "      <td>0</td>\n",
              "      <td>1</td>\n",
              "      <td>1</td>\n",
              "    </tr>\n",
              "    <tr>\n",
              "      <th>48852</th>\n",
              "      <td>3.25</td>\n",
              "      <td>5.59</td>\n",
              "      <td>6.36</td>\n",
              "      <td>0</td>\n",
              "      <td>0</td>\n",
              "      <td>0</td>\n",
              "      <td>0</td>\n",
              "      <td>0</td>\n",
              "      <td>1</td>\n",
              "      <td>0</td>\n",
              "      <td>...</td>\n",
              "      <td>0</td>\n",
              "      <td>0</td>\n",
              "      <td>0</td>\n",
              "      <td>0</td>\n",
              "      <td>1</td>\n",
              "      <td>0</td>\n",
              "      <td>0</td>\n",
              "      <td>0</td>\n",
              "      <td>1</td>\n",
              "      <td>1</td>\n",
              "    </tr>\n",
              "    <tr>\n",
              "      <th>48853</th>\n",
              "      <td>2.46</td>\n",
              "      <td>3.25</td>\n",
              "      <td>3.50</td>\n",
              "      <td>0</td>\n",
              "      <td>1</td>\n",
              "      <td>0</td>\n",
              "      <td>0</td>\n",
              "      <td>0</td>\n",
              "      <td>0</td>\n",
              "      <td>0</td>\n",
              "      <td>...</td>\n",
              "      <td>0</td>\n",
              "      <td>0</td>\n",
              "      <td>1</td>\n",
              "      <td>0</td>\n",
              "      <td>0</td>\n",
              "      <td>0</td>\n",
              "      <td>1</td>\n",
              "      <td>0</td>\n",
              "      <td>0</td>\n",
              "      <td>0</td>\n",
              "    </tr>\n",
              "    <tr>\n",
              "      <th>48854</th>\n",
              "      <td>7.25</td>\n",
              "      <td>6.86</td>\n",
              "      <td>12.74</td>\n",
              "      <td>0</td>\n",
              "      <td>0</td>\n",
              "      <td>0</td>\n",
              "      <td>0</td>\n",
              "      <td>0</td>\n",
              "      <td>0</td>\n",
              "      <td>1</td>\n",
              "      <td>...</td>\n",
              "      <td>0</td>\n",
              "      <td>0</td>\n",
              "      <td>0</td>\n",
              "      <td>0</td>\n",
              "      <td>1</td>\n",
              "      <td>0</td>\n",
              "      <td>0</td>\n",
              "      <td>0</td>\n",
              "      <td>1</td>\n",
              "      <td>1</td>\n",
              "    </tr>\n",
              "  </tbody>\n",
              "</table>\n",
              "<p>48855 rows × 91 columns</p>\n",
              "</div>\n",
              "      <button class=\"colab-df-convert\" onclick=\"convertToInteractive('df-4fda35e4-90eb-4601-a55b-a29d4a6f91d9')\"\n",
              "              title=\"Convert this dataframe to an interactive table.\"\n",
              "              style=\"display:none;\">\n",
              "        \n",
              "  <svg xmlns=\"http://www.w3.org/2000/svg\" height=\"24px\"viewBox=\"0 0 24 24\"\n",
              "       width=\"24px\">\n",
              "    <path d=\"M0 0h24v24H0V0z\" fill=\"none\"/>\n",
              "    <path d=\"M18.56 5.44l.94 2.06.94-2.06 2.06-.94-2.06-.94-.94-2.06-.94 2.06-2.06.94zm-11 1L8.5 8.5l.94-2.06 2.06-.94-2.06-.94L8.5 2.5l-.94 2.06-2.06.94zm10 10l.94 2.06.94-2.06 2.06-.94-2.06-.94-.94-2.06-.94 2.06-2.06.94z\"/><path d=\"M17.41 7.96l-1.37-1.37c-.4-.4-.92-.59-1.43-.59-.52 0-1.04.2-1.43.59L10.3 9.45l-7.72 7.72c-.78.78-.78 2.05 0 2.83L4 21.41c.39.39.9.59 1.41.59.51 0 1.02-.2 1.41-.59l7.78-7.78 2.81-2.81c.8-.78.8-2.07 0-2.86zM5.41 20L4 18.59l7.72-7.72 1.47 1.35L5.41 20z\"/>\n",
              "  </svg>\n",
              "      </button>\n",
              "      \n",
              "  <style>\n",
              "    .colab-df-container {\n",
              "      display:flex;\n",
              "      flex-wrap:wrap;\n",
              "      gap: 12px;\n",
              "    }\n",
              "\n",
              "    .colab-df-convert {\n",
              "      background-color: #E8F0FE;\n",
              "      border: none;\n",
              "      border-radius: 50%;\n",
              "      cursor: pointer;\n",
              "      display: none;\n",
              "      fill: #1967D2;\n",
              "      height: 32px;\n",
              "      padding: 0 0 0 0;\n",
              "      width: 32px;\n",
              "    }\n",
              "\n",
              "    .colab-df-convert:hover {\n",
              "      background-color: #E2EBFA;\n",
              "      box-shadow: 0px 1px 2px rgba(60, 64, 67, 0.3), 0px 1px 3px 1px rgba(60, 64, 67, 0.15);\n",
              "      fill: #174EA6;\n",
              "    }\n",
              "\n",
              "    [theme=dark] .colab-df-convert {\n",
              "      background-color: #3B4455;\n",
              "      fill: #D2E3FC;\n",
              "    }\n",
              "\n",
              "    [theme=dark] .colab-df-convert:hover {\n",
              "      background-color: #434B5C;\n",
              "      box-shadow: 0px 1px 3px 1px rgba(0, 0, 0, 0.15);\n",
              "      filter: drop-shadow(0px 1px 2px rgba(0, 0, 0, 0.3));\n",
              "      fill: #FFFFFF;\n",
              "    }\n",
              "  </style>\n",
              "\n",
              "      <script>\n",
              "        const buttonEl =\n",
              "          document.querySelector('#df-4fda35e4-90eb-4601-a55b-a29d4a6f91d9 button.colab-df-convert');\n",
              "        buttonEl.style.display =\n",
              "          google.colab.kernel.accessAllowed ? 'block' : 'none';\n",
              "\n",
              "        async function convertToInteractive(key) {\n",
              "          const element = document.querySelector('#df-4fda35e4-90eb-4601-a55b-a29d4a6f91d9');\n",
              "          const dataTable =\n",
              "            await google.colab.kernel.invokeFunction('convertToInteractive',\n",
              "                                                     [key], {});\n",
              "          if (!dataTable) return;\n",
              "\n",
              "          const docLinkHtml = 'Like what you see? Visit the ' +\n",
              "            '<a target=\"_blank\" href=https://colab.research.google.com/notebooks/data_table.ipynb>data table notebook</a>'\n",
              "            + ' to learn more about interactive tables.';\n",
              "          element.innerHTML = '';\n",
              "          dataTable['output_type'] = 'display_data';\n",
              "          await google.colab.output.renderOutput(dataTable, element);\n",
              "          const docLink = document.createElement('div');\n",
              "          docLink.innerHTML = docLinkHtml;\n",
              "          element.appendChild(docLink);\n",
              "        }\n",
              "      </script>\n",
              "    </div>\n",
              "  </div>\n",
              "  "
            ]
          },
          "metadata": {},
          "execution_count": 54
        }
      ]
    },
    {
      "cell_type": "code",
      "source": [
        "X_train.columns"
      ],
      "metadata": {
        "colab": {
          "base_uri": "https://localhost:8080/"
        },
        "id": "J4PyzsCv8Hki",
        "outputId": "d6438914-27fd-407f-bc5b-748cf4fa34ee"
      },
      "execution_count": null,
      "outputs": [
        {
          "output_type": "execute_result",
          "data": {
            "text/plain": [
              "Index(['capdiameter-', 'stem-height', 'stem-width', 'cap-shape_b',\n",
              "       'cap-shape_c', 'cap-shape_f', 'cap-shape_o', 'cap-shape_p',\n",
              "       'cap-shape_s', 'cap-shape_x', 'cap-surface_d', 'cap-surface_e',\n",
              "       'cap-surface_g', 'cap-surface_h', 'cap-surface_i', 'cap-surface_k',\n",
              "       'cap-surface_l', 'cap-surface_s', 'cap-surface_t', 'cap-surface_w',\n",
              "       'cap-surface_y', 'cap-color_0', 'cap-color_1', 'cap-color_2',\n",
              "       'cap-color_3', 'does-bruise-or-bleed_f', 'does-bruise-or-bleed_t',\n",
              "       'gill-attachment_a', 'gill-attachment_d', 'gill-attachment_e',\n",
              "       'gill-attachment_f', 'gill-attachment_p', 'gill-attachment_s',\n",
              "       'gill-attachment_x', 'gill-spacing_c', 'gill-spacing_d',\n",
              "       'gill-spacing_f', 'stem-color_0', 'stem-color_1', 'stem-color_2',\n",
              "       'stem-color_3', 'stem-surface_?', 'stem-surface_f', 'stem-surface_g',\n",
              "       'stem-surface_h', 'stem-surface_i', 'stem-surface_k', 'stem-surface_s',\n",
              "       'stem-surface_t', 'stem-surface_y', 'stem-root_?', 'stem-root_b',\n",
              "       'stem-root_c', 'stem-root_f', 'stem-root_r', 'stem-root_s',\n",
              "       'veil-type_?', 'veil-type_u', 'veil-color_0', 'veil-color_1',\n",
              "       'veil-color_2', 'ring-type_0', 'ring-type_1', 'ring-type_2',\n",
              "       'ring-type_3', 'spore-print-color_?', 'spore-print-color_g',\n",
              "       'spore-print-color_k', 'spore-print-color_n', 'spore-print-color_p',\n",
              "       'spore-print-color_r', 'spore-print-color_u', 'spore-print-color_w',\n",
              "       'has-ring_f', 'has-ring_t', 'habitat_d', 'habitat_g', 'habitat_h',\n",
              "       'habitat_l', 'habitat_m', 'habitat_p', 'habitat_u', 'habitat_w',\n",
              "       'season_a', 'season_s', 'season_u', 'season_w', 'gill-color_0',\n",
              "       'gill-color_1', 'gill-color_2', 'gill-color_3'],\n",
              "      dtype='object')"
            ]
          },
          "metadata": {},
          "execution_count": 55
        }
      ]
    },
    {
      "cell_type": "code",
      "source": [
        "X_train.describe()"
      ],
      "metadata": {
        "colab": {
          "base_uri": "https://localhost:8080/"
        },
        "id": "lSt-TKcu9G2H",
        "outputId": "225e0f3c-8a46-468b-e116-62122f37a443"
      },
      "execution_count": null,
      "outputs": [
        {
          "output_type": "execute_result",
          "data": {
            "text/plain": [
              "       capdiameter-   stem-height    stem-width  cap-shape_b   cap-shape_c  \\\n",
              "count  48855.000000  48855.000000  48855.000000  48855.00000  48855.000000   \n",
              "mean       6.722074      6.590447     12.156736      0.09387      0.029577   \n",
              "std        5.228843      3.348631     10.062395      0.29165      0.169420   \n",
              "min        0.380000      0.000000      0.000000      0.00000      0.000000   \n",
              "25%        3.490000      4.655000      5.220000      0.00000      0.000000   \n",
              "50%        5.870000      5.960000     10.200000      0.00000      0.000000   \n",
              "75%        8.530000      7.760000     16.570000      0.00000      0.000000   \n",
              "max       59.460000     33.920000    103.910000      1.00000      1.000000   \n",
              "\n",
              "        cap-shape_f   cap-shape_o   cap-shape_p   cap-shape_s  cap-shape_x  \\\n",
              "count  48855.000000  48855.000000  48855.000000  48855.000000  48855.00000   \n",
              "mean       0.218749      0.055347      0.041899      0.117777      0.44278   \n",
              "std        0.413402      0.228660      0.200362      0.322347      0.49672   \n",
              "min        0.000000      0.000000      0.000000      0.000000      0.00000   \n",
              "25%        0.000000      0.000000      0.000000      0.000000      0.00000   \n",
              "50%        0.000000      0.000000      0.000000      0.000000      0.00000   \n",
              "75%        0.000000      0.000000      0.000000      0.000000      1.00000   \n",
              "max        1.000000      1.000000      1.000000      1.000000      1.00000   \n",
              "\n",
              "       ...     habitat_u     habitat_w      season_a      season_s  \\\n",
              "count  ...  48855.000000  48855.000000  48855.000000  48855.000000   \n",
              "mean   ...      0.002026      0.005834      0.494238      0.043762   \n",
              "std    ...      0.044970      0.076156      0.499972      0.204568   \n",
              "min    ...      0.000000      0.000000      0.000000      0.000000   \n",
              "25%    ...      0.000000      0.000000      0.000000      0.000000   \n",
              "50%    ...      0.000000      0.000000      0.000000      0.000000   \n",
              "75%    ...      0.000000      0.000000      1.000000      0.000000   \n",
              "max    ...      1.000000      1.000000      1.000000      1.000000   \n",
              "\n",
              "           season_u      season_w  gill-color_0  gill-color_1  gill-color_2  \\\n",
              "count  48855.000000  48855.000000  48855.000000  48855.000000  48855.000000   \n",
              "mean       0.375274      0.086726      0.261713      0.195681      0.579756   \n",
              "std        0.484198      0.281436      0.439572      0.396728      0.493603   \n",
              "min        0.000000      0.000000      0.000000      0.000000      0.000000   \n",
              "25%        0.000000      0.000000      0.000000      0.000000      0.000000   \n",
              "50%        0.000000      0.000000      0.000000      0.000000      1.000000   \n",
              "75%        1.000000      0.000000      1.000000      0.000000      1.000000   \n",
              "max        1.000000      1.000000      1.000000      1.000000      1.000000   \n",
              "\n",
              "       gill-color_3  \n",
              "count  48855.000000  \n",
              "mean       0.536895  \n",
              "std        0.498642  \n",
              "min        0.000000  \n",
              "25%        0.000000  \n",
              "50%        1.000000  \n",
              "75%        1.000000  \n",
              "max        1.000000  \n",
              "\n",
              "[8 rows x 91 columns]"
            ],
            "text/html": [
              "\n",
              "  <div id=\"df-2a73b2e1-bb18-4a47-a948-6d5c6008e03d\">\n",
              "    <div class=\"colab-df-container\">\n",
              "      <div>\n",
              "<style scoped>\n",
              "    .dataframe tbody tr th:only-of-type {\n",
              "        vertical-align: middle;\n",
              "    }\n",
              "\n",
              "    .dataframe tbody tr th {\n",
              "        vertical-align: top;\n",
              "    }\n",
              "\n",
              "    .dataframe thead th {\n",
              "        text-align: right;\n",
              "    }\n",
              "</style>\n",
              "<table border=\"1\" class=\"dataframe\">\n",
              "  <thead>\n",
              "    <tr style=\"text-align: right;\">\n",
              "      <th></th>\n",
              "      <th>capdiameter-</th>\n",
              "      <th>stem-height</th>\n",
              "      <th>stem-width</th>\n",
              "      <th>cap-shape_b</th>\n",
              "      <th>cap-shape_c</th>\n",
              "      <th>cap-shape_f</th>\n",
              "      <th>cap-shape_o</th>\n",
              "      <th>cap-shape_p</th>\n",
              "      <th>cap-shape_s</th>\n",
              "      <th>cap-shape_x</th>\n",
              "      <th>...</th>\n",
              "      <th>habitat_u</th>\n",
              "      <th>habitat_w</th>\n",
              "      <th>season_a</th>\n",
              "      <th>season_s</th>\n",
              "      <th>season_u</th>\n",
              "      <th>season_w</th>\n",
              "      <th>gill-color_0</th>\n",
              "      <th>gill-color_1</th>\n",
              "      <th>gill-color_2</th>\n",
              "      <th>gill-color_3</th>\n",
              "    </tr>\n",
              "  </thead>\n",
              "  <tbody>\n",
              "    <tr>\n",
              "      <th>count</th>\n",
              "      <td>48855.000000</td>\n",
              "      <td>48855.000000</td>\n",
              "      <td>48855.000000</td>\n",
              "      <td>48855.00000</td>\n",
              "      <td>48855.000000</td>\n",
              "      <td>48855.000000</td>\n",
              "      <td>48855.000000</td>\n",
              "      <td>48855.000000</td>\n",
              "      <td>48855.000000</td>\n",
              "      <td>48855.00000</td>\n",
              "      <td>...</td>\n",
              "      <td>48855.000000</td>\n",
              "      <td>48855.000000</td>\n",
              "      <td>48855.000000</td>\n",
              "      <td>48855.000000</td>\n",
              "      <td>48855.000000</td>\n",
              "      <td>48855.000000</td>\n",
              "      <td>48855.000000</td>\n",
              "      <td>48855.000000</td>\n",
              "      <td>48855.000000</td>\n",
              "      <td>48855.000000</td>\n",
              "    </tr>\n",
              "    <tr>\n",
              "      <th>mean</th>\n",
              "      <td>6.722074</td>\n",
              "      <td>6.590447</td>\n",
              "      <td>12.156736</td>\n",
              "      <td>0.09387</td>\n",
              "      <td>0.029577</td>\n",
              "      <td>0.218749</td>\n",
              "      <td>0.055347</td>\n",
              "      <td>0.041899</td>\n",
              "      <td>0.117777</td>\n",
              "      <td>0.44278</td>\n",
              "      <td>...</td>\n",
              "      <td>0.002026</td>\n",
              "      <td>0.005834</td>\n",
              "      <td>0.494238</td>\n",
              "      <td>0.043762</td>\n",
              "      <td>0.375274</td>\n",
              "      <td>0.086726</td>\n",
              "      <td>0.261713</td>\n",
              "      <td>0.195681</td>\n",
              "      <td>0.579756</td>\n",
              "      <td>0.536895</td>\n",
              "    </tr>\n",
              "    <tr>\n",
              "      <th>std</th>\n",
              "      <td>5.228843</td>\n",
              "      <td>3.348631</td>\n",
              "      <td>10.062395</td>\n",
              "      <td>0.29165</td>\n",
              "      <td>0.169420</td>\n",
              "      <td>0.413402</td>\n",
              "      <td>0.228660</td>\n",
              "      <td>0.200362</td>\n",
              "      <td>0.322347</td>\n",
              "      <td>0.49672</td>\n",
              "      <td>...</td>\n",
              "      <td>0.044970</td>\n",
              "      <td>0.076156</td>\n",
              "      <td>0.499972</td>\n",
              "      <td>0.204568</td>\n",
              "      <td>0.484198</td>\n",
              "      <td>0.281436</td>\n",
              "      <td>0.439572</td>\n",
              "      <td>0.396728</td>\n",
              "      <td>0.493603</td>\n",
              "      <td>0.498642</td>\n",
              "    </tr>\n",
              "    <tr>\n",
              "      <th>min</th>\n",
              "      <td>0.380000</td>\n",
              "      <td>0.000000</td>\n",
              "      <td>0.000000</td>\n",
              "      <td>0.00000</td>\n",
              "      <td>0.000000</td>\n",
              "      <td>0.000000</td>\n",
              "      <td>0.000000</td>\n",
              "      <td>0.000000</td>\n",
              "      <td>0.000000</td>\n",
              "      <td>0.00000</td>\n",
              "      <td>...</td>\n",
              "      <td>0.000000</td>\n",
              "      <td>0.000000</td>\n",
              "      <td>0.000000</td>\n",
              "      <td>0.000000</td>\n",
              "      <td>0.000000</td>\n",
              "      <td>0.000000</td>\n",
              "      <td>0.000000</td>\n",
              "      <td>0.000000</td>\n",
              "      <td>0.000000</td>\n",
              "      <td>0.000000</td>\n",
              "    </tr>\n",
              "    <tr>\n",
              "      <th>25%</th>\n",
              "      <td>3.490000</td>\n",
              "      <td>4.655000</td>\n",
              "      <td>5.220000</td>\n",
              "      <td>0.00000</td>\n",
              "      <td>0.000000</td>\n",
              "      <td>0.000000</td>\n",
              "      <td>0.000000</td>\n",
              "      <td>0.000000</td>\n",
              "      <td>0.000000</td>\n",
              "      <td>0.00000</td>\n",
              "      <td>...</td>\n",
              "      <td>0.000000</td>\n",
              "      <td>0.000000</td>\n",
              "      <td>0.000000</td>\n",
              "      <td>0.000000</td>\n",
              "      <td>0.000000</td>\n",
              "      <td>0.000000</td>\n",
              "      <td>0.000000</td>\n",
              "      <td>0.000000</td>\n",
              "      <td>0.000000</td>\n",
              "      <td>0.000000</td>\n",
              "    </tr>\n",
              "    <tr>\n",
              "      <th>50%</th>\n",
              "      <td>5.870000</td>\n",
              "      <td>5.960000</td>\n",
              "      <td>10.200000</td>\n",
              "      <td>0.00000</td>\n",
              "      <td>0.000000</td>\n",
              "      <td>0.000000</td>\n",
              "      <td>0.000000</td>\n",
              "      <td>0.000000</td>\n",
              "      <td>0.000000</td>\n",
              "      <td>0.00000</td>\n",
              "      <td>...</td>\n",
              "      <td>0.000000</td>\n",
              "      <td>0.000000</td>\n",
              "      <td>0.000000</td>\n",
              "      <td>0.000000</td>\n",
              "      <td>0.000000</td>\n",
              "      <td>0.000000</td>\n",
              "      <td>0.000000</td>\n",
              "      <td>0.000000</td>\n",
              "      <td>1.000000</td>\n",
              "      <td>1.000000</td>\n",
              "    </tr>\n",
              "    <tr>\n",
              "      <th>75%</th>\n",
              "      <td>8.530000</td>\n",
              "      <td>7.760000</td>\n",
              "      <td>16.570000</td>\n",
              "      <td>0.00000</td>\n",
              "      <td>0.000000</td>\n",
              "      <td>0.000000</td>\n",
              "      <td>0.000000</td>\n",
              "      <td>0.000000</td>\n",
              "      <td>0.000000</td>\n",
              "      <td>1.00000</td>\n",
              "      <td>...</td>\n",
              "      <td>0.000000</td>\n",
              "      <td>0.000000</td>\n",
              "      <td>1.000000</td>\n",
              "      <td>0.000000</td>\n",
              "      <td>1.000000</td>\n",
              "      <td>0.000000</td>\n",
              "      <td>1.000000</td>\n",
              "      <td>0.000000</td>\n",
              "      <td>1.000000</td>\n",
              "      <td>1.000000</td>\n",
              "    </tr>\n",
              "    <tr>\n",
              "      <th>max</th>\n",
              "      <td>59.460000</td>\n",
              "      <td>33.920000</td>\n",
              "      <td>103.910000</td>\n",
              "      <td>1.00000</td>\n",
              "      <td>1.000000</td>\n",
              "      <td>1.000000</td>\n",
              "      <td>1.000000</td>\n",
              "      <td>1.000000</td>\n",
              "      <td>1.000000</td>\n",
              "      <td>1.00000</td>\n",
              "      <td>...</td>\n",
              "      <td>1.000000</td>\n",
              "      <td>1.000000</td>\n",
              "      <td>1.000000</td>\n",
              "      <td>1.000000</td>\n",
              "      <td>1.000000</td>\n",
              "      <td>1.000000</td>\n",
              "      <td>1.000000</td>\n",
              "      <td>1.000000</td>\n",
              "      <td>1.000000</td>\n",
              "      <td>1.000000</td>\n",
              "    </tr>\n",
              "  </tbody>\n",
              "</table>\n",
              "<p>8 rows × 91 columns</p>\n",
              "</div>\n",
              "      <button class=\"colab-df-convert\" onclick=\"convertToInteractive('df-2a73b2e1-bb18-4a47-a948-6d5c6008e03d')\"\n",
              "              title=\"Convert this dataframe to an interactive table.\"\n",
              "              style=\"display:none;\">\n",
              "        \n",
              "  <svg xmlns=\"http://www.w3.org/2000/svg\" height=\"24px\"viewBox=\"0 0 24 24\"\n",
              "       width=\"24px\">\n",
              "    <path d=\"M0 0h24v24H0V0z\" fill=\"none\"/>\n",
              "    <path d=\"M18.56 5.44l.94 2.06.94-2.06 2.06-.94-2.06-.94-.94-2.06-.94 2.06-2.06.94zm-11 1L8.5 8.5l.94-2.06 2.06-.94-2.06-.94L8.5 2.5l-.94 2.06-2.06.94zm10 10l.94 2.06.94-2.06 2.06-.94-2.06-.94-.94-2.06-.94 2.06-2.06.94z\"/><path d=\"M17.41 7.96l-1.37-1.37c-.4-.4-.92-.59-1.43-.59-.52 0-1.04.2-1.43.59L10.3 9.45l-7.72 7.72c-.78.78-.78 2.05 0 2.83L4 21.41c.39.39.9.59 1.41.59.51 0 1.02-.2 1.41-.59l7.78-7.78 2.81-2.81c.8-.78.8-2.07 0-2.86zM5.41 20L4 18.59l7.72-7.72 1.47 1.35L5.41 20z\"/>\n",
              "  </svg>\n",
              "      </button>\n",
              "      \n",
              "  <style>\n",
              "    .colab-df-container {\n",
              "      display:flex;\n",
              "      flex-wrap:wrap;\n",
              "      gap: 12px;\n",
              "    }\n",
              "\n",
              "    .colab-df-convert {\n",
              "      background-color: #E8F0FE;\n",
              "      border: none;\n",
              "      border-radius: 50%;\n",
              "      cursor: pointer;\n",
              "      display: none;\n",
              "      fill: #1967D2;\n",
              "      height: 32px;\n",
              "      padding: 0 0 0 0;\n",
              "      width: 32px;\n",
              "    }\n",
              "\n",
              "    .colab-df-convert:hover {\n",
              "      background-color: #E2EBFA;\n",
              "      box-shadow: 0px 1px 2px rgba(60, 64, 67, 0.3), 0px 1px 3px 1px rgba(60, 64, 67, 0.15);\n",
              "      fill: #174EA6;\n",
              "    }\n",
              "\n",
              "    [theme=dark] .colab-df-convert {\n",
              "      background-color: #3B4455;\n",
              "      fill: #D2E3FC;\n",
              "    }\n",
              "\n",
              "    [theme=dark] .colab-df-convert:hover {\n",
              "      background-color: #434B5C;\n",
              "      box-shadow: 0px 1px 3px 1px rgba(0, 0, 0, 0.15);\n",
              "      filter: drop-shadow(0px 1px 2px rgba(0, 0, 0, 0.3));\n",
              "      fill: #FFFFFF;\n",
              "    }\n",
              "  </style>\n",
              "\n",
              "      <script>\n",
              "        const buttonEl =\n",
              "          document.querySelector('#df-2a73b2e1-bb18-4a47-a948-6d5c6008e03d button.colab-df-convert');\n",
              "        buttonEl.style.display =\n",
              "          google.colab.kernel.accessAllowed ? 'block' : 'none';\n",
              "\n",
              "        async function convertToInteractive(key) {\n",
              "          const element = document.querySelector('#df-2a73b2e1-bb18-4a47-a948-6d5c6008e03d');\n",
              "          const dataTable =\n",
              "            await google.colab.kernel.invokeFunction('convertToInteractive',\n",
              "                                                     [key], {});\n",
              "          if (!dataTable) return;\n",
              "\n",
              "          const docLinkHtml = 'Like what you see? Visit the ' +\n",
              "            '<a target=\"_blank\" href=https://colab.research.google.com/notebooks/data_table.ipynb>data table notebook</a>'\n",
              "            + ' to learn more about interactive tables.';\n",
              "          element.innerHTML = '';\n",
              "          dataTable['output_type'] = 'display_data';\n",
              "          await google.colab.output.renderOutput(dataTable, element);\n",
              "          const docLink = document.createElement('div');\n",
              "          docLink.innerHTML = docLinkHtml;\n",
              "          element.appendChild(docLink);\n",
              "        }\n",
              "      </script>\n",
              "    </div>\n",
              "  </div>\n",
              "  "
            ]
          },
          "metadata": {},
          "execution_count": 56
        }
      ]
    },
    {
      "cell_type": "code",
      "source": [
        "X_train.info()"
      ],
      "metadata": {
        "colab": {
          "base_uri": "https://localhost:8080/"
        },
        "id": "Asuut1Dw9Oin",
        "outputId": "d218d7c7-fbe5-46b2-c3c2-39bc6ac12a02"
      },
      "execution_count": null,
      "outputs": [
        {
          "output_type": "stream",
          "name": "stdout",
          "text": [
            "<class 'pandas.core.frame.DataFrame'>\n",
            "RangeIndex: 48855 entries, 0 to 48854\n",
            "Data columns (total 91 columns):\n",
            " #   Column                  Non-Null Count  Dtype  \n",
            "---  ------                  --------------  -----  \n",
            " 0   capdiameter-            48855 non-null  float64\n",
            " 1   stem-height             48855 non-null  float64\n",
            " 2   stem-width              48855 non-null  float64\n",
            " 3   cap-shape_b             48855 non-null  int64  \n",
            " 4   cap-shape_c             48855 non-null  int64  \n",
            " 5   cap-shape_f             48855 non-null  int64  \n",
            " 6   cap-shape_o             48855 non-null  int64  \n",
            " 7   cap-shape_p             48855 non-null  int64  \n",
            " 8   cap-shape_s             48855 non-null  int64  \n",
            " 9   cap-shape_x             48855 non-null  int64  \n",
            " 10  cap-surface_d           48855 non-null  int64  \n",
            " 11  cap-surface_e           48855 non-null  int64  \n",
            " 12  cap-surface_g           48855 non-null  int64  \n",
            " 13  cap-surface_h           48855 non-null  int64  \n",
            " 14  cap-surface_i           48855 non-null  int64  \n",
            " 15  cap-surface_k           48855 non-null  int64  \n",
            " 16  cap-surface_l           48855 non-null  int64  \n",
            " 17  cap-surface_s           48855 non-null  int64  \n",
            " 18  cap-surface_t           48855 non-null  int64  \n",
            " 19  cap-surface_w           48855 non-null  int64  \n",
            " 20  cap-surface_y           48855 non-null  int64  \n",
            " 21  cap-color_0             48855 non-null  int64  \n",
            " 22  cap-color_1             48855 non-null  int64  \n",
            " 23  cap-color_2             48855 non-null  int64  \n",
            " 24  cap-color_3             48855 non-null  int64  \n",
            " 25  does-bruise-or-bleed_f  48855 non-null  int64  \n",
            " 26  does-bruise-or-bleed_t  48855 non-null  int64  \n",
            " 27  gill-attachment_a       48855 non-null  int64  \n",
            " 28  gill-attachment_d       48855 non-null  int64  \n",
            " 29  gill-attachment_e       48855 non-null  int64  \n",
            " 30  gill-attachment_f       48855 non-null  int64  \n",
            " 31  gill-attachment_p       48855 non-null  int64  \n",
            " 32  gill-attachment_s       48855 non-null  int64  \n",
            " 33  gill-attachment_x       48855 non-null  int64  \n",
            " 34  gill-spacing_c          48855 non-null  int64  \n",
            " 35  gill-spacing_d          48855 non-null  int64  \n",
            " 36  gill-spacing_f          48855 non-null  int64  \n",
            " 37  stem-color_0            48855 non-null  int64  \n",
            " 38  stem-color_1            48855 non-null  int64  \n",
            " 39  stem-color_2            48855 non-null  int64  \n",
            " 40  stem-color_3            48855 non-null  int64  \n",
            " 41  stem-surface_?          48855 non-null  int64  \n",
            " 42  stem-surface_f          48855 non-null  int64  \n",
            " 43  stem-surface_g          48855 non-null  int64  \n",
            " 44  stem-surface_h          48855 non-null  int64  \n",
            " 45  stem-surface_i          48855 non-null  int64  \n",
            " 46  stem-surface_k          48855 non-null  int64  \n",
            " 47  stem-surface_s          48855 non-null  int64  \n",
            " 48  stem-surface_t          48855 non-null  int64  \n",
            " 49  stem-surface_y          48855 non-null  int64  \n",
            " 50  stem-root_?             48855 non-null  int64  \n",
            " 51  stem-root_b             48855 non-null  int64  \n",
            " 52  stem-root_c             48855 non-null  int64  \n",
            " 53  stem-root_f             48855 non-null  int64  \n",
            " 54  stem-root_r             48855 non-null  int64  \n",
            " 55  stem-root_s             48855 non-null  int64  \n",
            " 56  veil-type_?             48855 non-null  int64  \n",
            " 57  veil-type_u             48855 non-null  int64  \n",
            " 58  veil-color_0            48855 non-null  int64  \n",
            " 59  veil-color_1            48855 non-null  int64  \n",
            " 60  veil-color_2            48855 non-null  int64  \n",
            " 61  ring-type_0             48855 non-null  int64  \n",
            " 62  ring-type_1             48855 non-null  int64  \n",
            " 63  ring-type_2             48855 non-null  int64  \n",
            " 64  ring-type_3             48855 non-null  int64  \n",
            " 65  spore-print-color_?     48855 non-null  int64  \n",
            " 66  spore-print-color_g     48855 non-null  int64  \n",
            " 67  spore-print-color_k     48855 non-null  int64  \n",
            " 68  spore-print-color_n     48855 non-null  int64  \n",
            " 69  spore-print-color_p     48855 non-null  int64  \n",
            " 70  spore-print-color_r     48855 non-null  int64  \n",
            " 71  spore-print-color_u     48855 non-null  int64  \n",
            " 72  spore-print-color_w     48855 non-null  int64  \n",
            " 73  has-ring_f              48855 non-null  int64  \n",
            " 74  has-ring_t              48855 non-null  int64  \n",
            " 75  habitat_d               48855 non-null  int64  \n",
            " 76  habitat_g               48855 non-null  int64  \n",
            " 77  habitat_h               48855 non-null  int64  \n",
            " 78  habitat_l               48855 non-null  int64  \n",
            " 79  habitat_m               48855 non-null  int64  \n",
            " 80  habitat_p               48855 non-null  int64  \n",
            " 81  habitat_u               48855 non-null  int64  \n",
            " 82  habitat_w               48855 non-null  int64  \n",
            " 83  season_a                48855 non-null  int64  \n",
            " 84  season_s                48855 non-null  int64  \n",
            " 85  season_u                48855 non-null  int64  \n",
            " 86  season_w                48855 non-null  int64  \n",
            " 87  gill-color_0            48855 non-null  int64  \n",
            " 88  gill-color_1            48855 non-null  int64  \n",
            " 89  gill-color_2            48855 non-null  int64  \n",
            " 90  gill-color_3            48855 non-null  int64  \n",
            "dtypes: float64(3), int64(88)\n",
            "memory usage: 33.9 MB\n"
          ]
        }
      ]
    },
    {
      "cell_type": "markdown",
      "source": [
        "YA TENGO ENCODEADO EL DATASET PARA PODER APLICAR LOS MODELOS."
      ],
      "metadata": {
        "id": "hVFbwNUl9X0Y"
      }
    },
    {
      "cell_type": "markdown",
      "source": [
        "# **LOGISTIC REGRESSION**"
      ],
      "metadata": {
        "id": "VfqYD7wrFo8E"
      }
    },
    {
      "cell_type": "code",
      "source": [
        "from sklearn.model_selection import RandomizedSearchCV\n",
        "from sklearn.linear_model import LogisticRegression\n",
        "from sklearn.metrics import confusion_matrix, accuracy_score, roc_auc_score, roc_curve\n",
        "import seaborn as sns\n",
        "import matplotlib.pyplot as plt"
      ],
      "metadata": {
        "id": "8PaIVb4GFoNz"
      },
      "execution_count": null,
      "outputs": []
    },
    {
      "cell_type": "code",
      "source": [
        "log_reg = LogisticRegression()\n",
        "params = [\n",
        "    {'penalty': ['l1', 'l2', 'elasticnet', 'none']},\n",
        "    {'C': [0.0001, 0.001, 0.01, 0.1, 1, 10, 100]},\n",
        "]\n",
        "rs = RandomizedSearchCV(log_reg, param_distributions=params, n_iter=5, random_state=1, scoring='roc_auc')\n",
        "rs.fit(X_train, y_train)\n",
        "model = rs.best_estimator_\n",
        "model.fit(X_train, y_train)\n",
        "rs.best_params_"
      ],
      "metadata": {
        "colab": {
          "base_uri": "https://localhost:8080/"
        },
        "id": "jxY_iOltFxz7",
        "outputId": "f7a18375-b4b8-43b1-ecf8-f3015878d7e6"
      },
      "execution_count": null,
      "outputs": [
        {
          "output_type": "stream",
          "name": "stderr",
          "text": [
            "/usr/local/lib/python3.10/dist-packages/sklearn/linear_model/_logistic.py:1173: FutureWarning: `penalty='none'`has been deprecated in 1.2 and will be removed in 1.4. To keep the past behaviour, set `penalty=None`.\n",
            "  warnings.warn(\n",
            "/usr/local/lib/python3.10/dist-packages/sklearn/linear_model/_logistic.py:458: ConvergenceWarning: lbfgs failed to converge (status=1):\n",
            "STOP: TOTAL NO. of ITERATIONS REACHED LIMIT.\n",
            "\n",
            "Increase the number of iterations (max_iter) or scale the data as shown in:\n",
            "    https://scikit-learn.org/stable/modules/preprocessing.html\n",
            "Please also refer to the documentation for alternative solver options:\n",
            "    https://scikit-learn.org/stable/modules/linear_model.html#logistic-regression\n",
            "  n_iter_i = _check_optimize_result(\n",
            "/usr/local/lib/python3.10/dist-packages/sklearn/linear_model/_logistic.py:1173: FutureWarning: `penalty='none'`has been deprecated in 1.2 and will be removed in 1.4. To keep the past behaviour, set `penalty=None`.\n",
            "  warnings.warn(\n",
            "/usr/local/lib/python3.10/dist-packages/sklearn/linear_model/_logistic.py:458: ConvergenceWarning: lbfgs failed to converge (status=1):\n",
            "STOP: TOTAL NO. of ITERATIONS REACHED LIMIT.\n",
            "\n",
            "Increase the number of iterations (max_iter) or scale the data as shown in:\n",
            "    https://scikit-learn.org/stable/modules/preprocessing.html\n",
            "Please also refer to the documentation for alternative solver options:\n",
            "    https://scikit-learn.org/stable/modules/linear_model.html#logistic-regression\n",
            "  n_iter_i = _check_optimize_result(\n",
            "/usr/local/lib/python3.10/dist-packages/sklearn/linear_model/_logistic.py:1173: FutureWarning: `penalty='none'`has been deprecated in 1.2 and will be removed in 1.4. To keep the past behaviour, set `penalty=None`.\n",
            "  warnings.warn(\n",
            "/usr/local/lib/python3.10/dist-packages/sklearn/linear_model/_logistic.py:458: ConvergenceWarning: lbfgs failed to converge (status=1):\n",
            "STOP: TOTAL NO. of ITERATIONS REACHED LIMIT.\n",
            "\n",
            "Increase the number of iterations (max_iter) or scale the data as shown in:\n",
            "    https://scikit-learn.org/stable/modules/preprocessing.html\n",
            "Please also refer to the documentation for alternative solver options:\n",
            "    https://scikit-learn.org/stable/modules/linear_model.html#logistic-regression\n",
            "  n_iter_i = _check_optimize_result(\n",
            "/usr/local/lib/python3.10/dist-packages/sklearn/linear_model/_logistic.py:1173: FutureWarning: `penalty='none'`has been deprecated in 1.2 and will be removed in 1.4. To keep the past behaviour, set `penalty=None`.\n",
            "  warnings.warn(\n",
            "/usr/local/lib/python3.10/dist-packages/sklearn/linear_model/_logistic.py:458: ConvergenceWarning: lbfgs failed to converge (status=1):\n",
            "STOP: TOTAL NO. of ITERATIONS REACHED LIMIT.\n",
            "\n",
            "Increase the number of iterations (max_iter) or scale the data as shown in:\n",
            "    https://scikit-learn.org/stable/modules/preprocessing.html\n",
            "Please also refer to the documentation for alternative solver options:\n",
            "    https://scikit-learn.org/stable/modules/linear_model.html#logistic-regression\n",
            "  n_iter_i = _check_optimize_result(\n",
            "/usr/local/lib/python3.10/dist-packages/sklearn/linear_model/_logistic.py:1173: FutureWarning: `penalty='none'`has been deprecated in 1.2 and will be removed in 1.4. To keep the past behaviour, set `penalty=None`.\n",
            "  warnings.warn(\n",
            "/usr/local/lib/python3.10/dist-packages/sklearn/linear_model/_logistic.py:458: ConvergenceWarning: lbfgs failed to converge (status=1):\n",
            "STOP: TOTAL NO. of ITERATIONS REACHED LIMIT.\n",
            "\n",
            "Increase the number of iterations (max_iter) or scale the data as shown in:\n",
            "    https://scikit-learn.org/stable/modules/preprocessing.html\n",
            "Please also refer to the documentation for alternative solver options:\n",
            "    https://scikit-learn.org/stable/modules/linear_model.html#logistic-regression\n",
            "  n_iter_i = _check_optimize_result(\n",
            "/usr/local/lib/python3.10/dist-packages/sklearn/linear_model/_logistic.py:458: ConvergenceWarning: lbfgs failed to converge (status=1):\n",
            "STOP: TOTAL NO. of ITERATIONS REACHED LIMIT.\n",
            "\n",
            "Increase the number of iterations (max_iter) or scale the data as shown in:\n",
            "    https://scikit-learn.org/stable/modules/preprocessing.html\n",
            "Please also refer to the documentation for alternative solver options:\n",
            "    https://scikit-learn.org/stable/modules/linear_model.html#logistic-regression\n",
            "  n_iter_i = _check_optimize_result(\n",
            "/usr/local/lib/python3.10/dist-packages/sklearn/linear_model/_logistic.py:458: ConvergenceWarning: lbfgs failed to converge (status=1):\n",
            "STOP: TOTAL NO. of ITERATIONS REACHED LIMIT.\n",
            "\n",
            "Increase the number of iterations (max_iter) or scale the data as shown in:\n",
            "    https://scikit-learn.org/stable/modules/preprocessing.html\n",
            "Please also refer to the documentation for alternative solver options:\n",
            "    https://scikit-learn.org/stable/modules/linear_model.html#logistic-regression\n",
            "  n_iter_i = _check_optimize_result(\n",
            "/usr/local/lib/python3.10/dist-packages/sklearn/linear_model/_logistic.py:458: ConvergenceWarning: lbfgs failed to converge (status=1):\n",
            "STOP: TOTAL NO. of ITERATIONS REACHED LIMIT.\n",
            "\n",
            "Increase the number of iterations (max_iter) or scale the data as shown in:\n",
            "    https://scikit-learn.org/stable/modules/preprocessing.html\n",
            "Please also refer to the documentation for alternative solver options:\n",
            "    https://scikit-learn.org/stable/modules/linear_model.html#logistic-regression\n",
            "  n_iter_i = _check_optimize_result(\n",
            "/usr/local/lib/python3.10/dist-packages/sklearn/linear_model/_logistic.py:458: ConvergenceWarning: lbfgs failed to converge (status=1):\n",
            "STOP: TOTAL NO. of ITERATIONS REACHED LIMIT.\n",
            "\n",
            "Increase the number of iterations (max_iter) or scale the data as shown in:\n",
            "    https://scikit-learn.org/stable/modules/preprocessing.html\n",
            "Please also refer to the documentation for alternative solver options:\n",
            "    https://scikit-learn.org/stable/modules/linear_model.html#logistic-regression\n",
            "  n_iter_i = _check_optimize_result(\n",
            "/usr/local/lib/python3.10/dist-packages/sklearn/linear_model/_logistic.py:458: ConvergenceWarning: lbfgs failed to converge (status=1):\n",
            "STOP: TOTAL NO. of ITERATIONS REACHED LIMIT.\n",
            "\n",
            "Increase the number of iterations (max_iter) or scale the data as shown in:\n",
            "    https://scikit-learn.org/stable/modules/preprocessing.html\n",
            "Please also refer to the documentation for alternative solver options:\n",
            "    https://scikit-learn.org/stable/modules/linear_model.html#logistic-regression\n",
            "  n_iter_i = _check_optimize_result(\n",
            "/usr/local/lib/python3.10/dist-packages/sklearn/linear_model/_logistic.py:458: ConvergenceWarning: lbfgs failed to converge (status=1):\n",
            "STOP: TOTAL NO. of ITERATIONS REACHED LIMIT.\n",
            "\n",
            "Increase the number of iterations (max_iter) or scale the data as shown in:\n",
            "    https://scikit-learn.org/stable/modules/preprocessing.html\n",
            "Please also refer to the documentation for alternative solver options:\n",
            "    https://scikit-learn.org/stable/modules/linear_model.html#logistic-regression\n",
            "  n_iter_i = _check_optimize_result(\n",
            "/usr/local/lib/python3.10/dist-packages/sklearn/linear_model/_logistic.py:458: ConvergenceWarning: lbfgs failed to converge (status=1):\n",
            "STOP: TOTAL NO. of ITERATIONS REACHED LIMIT.\n",
            "\n",
            "Increase the number of iterations (max_iter) or scale the data as shown in:\n",
            "    https://scikit-learn.org/stable/modules/preprocessing.html\n",
            "Please also refer to the documentation for alternative solver options:\n",
            "    https://scikit-learn.org/stable/modules/linear_model.html#logistic-regression\n",
            "  n_iter_i = _check_optimize_result(\n",
            "/usr/local/lib/python3.10/dist-packages/sklearn/linear_model/_logistic.py:458: ConvergenceWarning: lbfgs failed to converge (status=1):\n",
            "STOP: TOTAL NO. of ITERATIONS REACHED LIMIT.\n",
            "\n",
            "Increase the number of iterations (max_iter) or scale the data as shown in:\n",
            "    https://scikit-learn.org/stable/modules/preprocessing.html\n",
            "Please also refer to the documentation for alternative solver options:\n",
            "    https://scikit-learn.org/stable/modules/linear_model.html#logistic-regression\n",
            "  n_iter_i = _check_optimize_result(\n",
            "/usr/local/lib/python3.10/dist-packages/sklearn/linear_model/_logistic.py:458: ConvergenceWarning: lbfgs failed to converge (status=1):\n",
            "STOP: TOTAL NO. of ITERATIONS REACHED LIMIT.\n",
            "\n",
            "Increase the number of iterations (max_iter) or scale the data as shown in:\n",
            "    https://scikit-learn.org/stable/modules/preprocessing.html\n",
            "Please also refer to the documentation for alternative solver options:\n",
            "    https://scikit-learn.org/stable/modules/linear_model.html#logistic-regression\n",
            "  n_iter_i = _check_optimize_result(\n",
            "/usr/local/lib/python3.10/dist-packages/sklearn/linear_model/_logistic.py:458: ConvergenceWarning: lbfgs failed to converge (status=1):\n",
            "STOP: TOTAL NO. of ITERATIONS REACHED LIMIT.\n",
            "\n",
            "Increase the number of iterations (max_iter) or scale the data as shown in:\n",
            "    https://scikit-learn.org/stable/modules/preprocessing.html\n",
            "Please also refer to the documentation for alternative solver options:\n",
            "    https://scikit-learn.org/stable/modules/linear_model.html#logistic-regression\n",
            "  n_iter_i = _check_optimize_result(\n",
            "/usr/local/lib/python3.10/dist-packages/sklearn/model_selection/_validation.py:378: FitFailedWarning: \n",
            "5 fits failed out of a total of 25.\n",
            "The score on these train-test partitions for these parameters will be set to nan.\n",
            "If these failures are not expected, you can try to debug them by setting error_score='raise'.\n",
            "\n",
            "Below are more details about the failures:\n",
            "--------------------------------------------------------------------------------\n",
            "5 fits failed with the following error:\n",
            "Traceback (most recent call last):\n",
            "  File \"/usr/local/lib/python3.10/dist-packages/sklearn/model_selection/_validation.py\", line 686, in _fit_and_score\n",
            "    estimator.fit(X_train, y_train, **fit_params)\n",
            "  File \"/usr/local/lib/python3.10/dist-packages/sklearn/linear_model/_logistic.py\", line 1162, in fit\n",
            "    solver = _check_solver(self.solver, self.penalty, self.dual)\n",
            "  File \"/usr/local/lib/python3.10/dist-packages/sklearn/linear_model/_logistic.py\", line 54, in _check_solver\n",
            "    raise ValueError(\n",
            "ValueError: Solver lbfgs supports only 'l2' or 'none' penalties, got elasticnet penalty.\n",
            "\n",
            "  warnings.warn(some_fits_failed_message, FitFailedWarning)\n",
            "/usr/local/lib/python3.10/dist-packages/sklearn/model_selection/_search.py:952: UserWarning: One or more of the test scores are non-finite: [       nan 0.89258265 0.72524065 0.89178702 0.89210036]\n",
            "  warnings.warn(\n",
            "/usr/local/lib/python3.10/dist-packages/sklearn/linear_model/_logistic.py:1173: FutureWarning: `penalty='none'`has been deprecated in 1.2 and will be removed in 1.4. To keep the past behaviour, set `penalty=None`.\n",
            "  warnings.warn(\n",
            "/usr/local/lib/python3.10/dist-packages/sklearn/linear_model/_logistic.py:458: ConvergenceWarning: lbfgs failed to converge (status=1):\n",
            "STOP: TOTAL NO. of ITERATIONS REACHED LIMIT.\n",
            "\n",
            "Increase the number of iterations (max_iter) or scale the data as shown in:\n",
            "    https://scikit-learn.org/stable/modules/preprocessing.html\n",
            "Please also refer to the documentation for alternative solver options:\n",
            "    https://scikit-learn.org/stable/modules/linear_model.html#logistic-regression\n",
            "  n_iter_i = _check_optimize_result(\n",
            "/usr/local/lib/python3.10/dist-packages/sklearn/linear_model/_logistic.py:1173: FutureWarning: `penalty='none'`has been deprecated in 1.2 and will be removed in 1.4. To keep the past behaviour, set `penalty=None`.\n",
            "  warnings.warn(\n",
            "/usr/local/lib/python3.10/dist-packages/sklearn/linear_model/_logistic.py:458: ConvergenceWarning: lbfgs failed to converge (status=1):\n",
            "STOP: TOTAL NO. of ITERATIONS REACHED LIMIT.\n",
            "\n",
            "Increase the number of iterations (max_iter) or scale the data as shown in:\n",
            "    https://scikit-learn.org/stable/modules/preprocessing.html\n",
            "Please also refer to the documentation for alternative solver options:\n",
            "    https://scikit-learn.org/stable/modules/linear_model.html#logistic-regression\n",
            "  n_iter_i = _check_optimize_result(\n"
          ]
        },
        {
          "output_type": "execute_result",
          "data": {
            "text/plain": [
              "{'penalty': 'none'}"
            ]
          },
          "metadata": {},
          "execution_count": 133
        }
      ]
    },
    {
      "cell_type": "markdown",
      "source": [
        "#**MÉTRICAS DE ERROR**"
      ],
      "metadata": {
        "id": "c1r-iI9rZCnW"
      }
    },
    {
      "cell_type": "code",
      "source": [
        "y_pred = model.predict(X_test)\n",
        "y_test = y_test.astype(int)\n",
        "cm = confusion_matrix(y_test, y_pred)\n",
        "cm"
      ],
      "metadata": {
        "colab": {
          "base_uri": "https://localhost:8080/"
        },
        "id": "IFjhnS8VGPZb",
        "outputId": "0e217c93-e38f-438e-ec21-1c60c82627ac"
      },
      "execution_count": null,
      "outputs": [
        {
          "output_type": "execute_result",
          "data": {
            "text/plain": [
              "array([[5703, 1106],\n",
              "       [1160, 4245]])"
            ]
          },
          "metadata": {},
          "execution_count": 134
        }
      ]
    },
    {
      "cell_type": "code",
      "source": [
        "sns.heatmap(cm, annot=True, cmap='Blues')\n",
        "plt.title('Confusion Matrix')\n",
        "plt.xlabel('Predicted')\n",
        "plt.ylabel('Actual')\n",
        "plt.show()"
      ],
      "metadata": {
        "colab": {
          "base_uri": "https://localhost:8080/"
        },
        "id": "0BKmvrSfGSEY",
        "outputId": "a6228a7a-61eb-48d1-844c-04d95d263207"
      },
      "execution_count": null,
      "outputs": [
        {
          "output_type": "display_data",
          "data": {
            "text/plain": [
              "<Figure size 640x480 with 2 Axes>"
            ],
            "image/png": "[encoded data removed]"
          },
          "metadata": {}
        }
      ]
    },
    {
      "cell_type": "code",
      "source": [
        "accuracy_score(y_test, y_pred)"
      ],
      "metadata": {
        "colab": {
          "base_uri": "https://localhost:8080/"
        },
        "id": "nu8BxTI1GaKL",
        "outputId": "199c4101-f0a0-4667-faa1-0f04501ea308"
      },
      "execution_count": null,
      "outputs": [
        {
          "output_type": "execute_result",
          "data": {
            "text/plain": [
              "0.8144751924021615"
            ]
          },
          "metadata": {},
          "execution_count": 136
        }
      ]
    },
    {
      "cell_type": "code",
      "source": [
        "specificity_score = cm[0][0] / sum(cm[0])\n",
        "specificity_score"
      ],
      "metadata": {
        "colab": {
          "base_uri": "https://localhost:8080/"
        },
        "id": "EhYuRxXOGa57",
        "outputId": "60e55315-2655-4683-84ba-4b044c4f6e9f"
      },
      "execution_count": null,
      "outputs": [
        {
          "output_type": "execute_result",
          "data": {
            "text/plain": [
              "0.8375679248054047"
            ]
          },
          "metadata": {},
          "execution_count": 137
        }
      ]
    },
    {
      "cell_type": "code",
      "source": [
        "sensibility_score = cm[1][1] / sum(cm[1])\n",
        "sensibility_score"
      ],
      "metadata": {
        "colab": {
          "base_uri": "https://localhost:8080/"
        },
        "id": "nO4y9TekGdHr",
        "outputId": "0ae7fce9-3ead-4eed-87a0-3fc5057b5667"
      },
      "execution_count": null,
      "outputs": [
        {
          "output_type": "execute_result",
          "data": {
            "text/plain": [
              "0.7853839037927844"
            ]
          },
          "metadata": {},
          "execution_count": 138
        }
      ]
    },
    {
      "cell_type": "code",
      "source": [
        "y_pred = y_pred.astype(str)\n",
        "y_test = y_test.astype(str)\n",
        "auc = roc_auc_score(y_test, model.predict_proba(X_test)[:, 1])\n",
        "y_pred = y_pred.astype(int)\n",
        "y_test = y_test.astype(int)\n",
        "fpr, tpr, thresholds = roc_curve(y_test, y_pred)"
      ],
      "metadata": {
        "id": "g3ahZK82Ge76"
      },
      "execution_count": null,
      "outputs": []
    },
    {
      "cell_type": "code",
      "source": [
        "plt.figure(figsize=(12, 7))\n",
        "plt.plot(fpr, tpr, label=f'AUC (Logistic Regression) = {auc:.2f}')\n",
        "plt.plot([0, 1], [0, 1], color='blue', linestyle='--', label='Baseline')\n",
        "plt.title('ROC Curve', size=20)\n",
        "plt.xlabel('False Positive Rate', size=14)\n",
        "plt.ylabel('True Positive Rate', size=14)\n",
        "plt.legend();"
      ],
      "metadata": {
        "colab": {
          "base_uri": "https://localhost:8080/"
        },
        "id": "E3ob7By8GpZN",
        "outputId": "f103a8aa-6dcd-469e-c2a1-ea94c5a300dc"
      },
      "execution_count": null,
      "outputs": [
        {
          "output_type": "display_data",
          "data": {
            "text/plain": [
              "<Figure size 1200x700 with 1 Axes>"
            ],
            "image/png": "[encoded data removed]"
          },
          "metadata": {}
        }
      ]
    },
    {
      "cell_type": "markdown",
      "source": [
        "🟪 ¿Cuál es el mejor score de validación obtenido? (¿Cómo conviene obtener el dataset para validar?) 🟪 "
      ],
      "metadata": {
        "id": "RO0W7_PsGGS8"
      }
    },
    {
      "cell_type": "code",
      "source": [
        "auc"
      ],
      "metadata": {
        "colab": {
          "base_uri": "https://localhost:8080/"
        },
        "id": "NXLXaQu7J2hv",
        "outputId": "f50c0083-a8b0-4a99-89b8-50ea370afbbb"
      },
      "execution_count": null,
      "outputs": [
        {
          "output_type": "execute_result",
          "data": {
            "text/plain": [
              "0.8850708420549662"
            ]
          },
          "metadata": {},
          "execution_count": 141
        }
      ]
    },
    {
      "cell_type": "markdown",
      "source": [
        "Obtuve un auc de 0.885, muy bueno para ser el modelo base. Por lo hablado en la clase de consulta del tp (https://www.youtube.com/watch?v=WnOQgYbZEtU&t=1680s minuto 22:00) supongo que se me pregunta sobre el dataset para testear. En mi caso separé aleatoriamente los datos, dejando un 80% en Train y 20% en Test. Como no hay cuestiones de tiempo, el orden no importa, y puedo tomar de forma aleatoria. De todas formas si hablamos de validation, al hacer RandomizedSearchCV va tomando particiones \"folds\" sobre X_train. Entrena a un grupo de X_train y valida sobre el que separó de X_train. Lo hace varias veces tomando distintos folds para entrenar y validar."
      ],
      "metadata": {
        "id": "Ft7fXK2BGmrU"
      }
    },
    {
      "cell_type": "markdown",
      "source": [
        "# **FEATURE IMPORTANCE**"
      ],
      "metadata": {
        "id": "YhFgT6WeilX7"
      }
    },
    {
      "cell_type": "code",
      "source": [
        "import numpy as np"
      ],
      "metadata": {
        "id": "9L079ggOlqfx"
      },
      "execution_count": null,
      "outputs": []
    },
    {
      "cell_type": "code",
      "source": [
        "df_feature_importance = pd.DataFrame(X_train.columns, columns=['feature'])\n",
        "df_feature_importance['importance'] = np.abs(model.coef_[0])\n",
        "df_feature_importance['feature'] = df_feature_importance['feature'].map(lambda x: x if (x == 'capdiameter-' or x == 'stem-height' or x == 'stem-width' or x == 'season') else x[:-2])\n",
        "df_feature_importance = df_feature_importance.groupby('feature').agg('sum')\n",
        "df_feature_importance = df_feature_importance.sort_values(by='importance', ascending = False).reset_index()"
      ],
      "metadata": {
        "id": "vpbFsz61ikAq"
      },
      "execution_count": null,
      "outputs": []
    },
    {
      "cell_type": "code",
      "source": [
        "df_feature_importance"
      ],
      "metadata": {
        "colab": {
          "base_uri": "https://localhost:8080/"
        },
        "id": "-TGgblWXqwWW",
        "outputId": "91a12ad4-2fd3-4d56-cdbc-59885fc6890e"
      },
      "execution_count": null,
      "outputs": [
        {
          "output_type": "execute_result",
          "data": {
            "text/plain": [
              "                 feature  importance\n",
              "0              stem-root   14.402815\n",
              "1           stem-surface   14.137716\n",
              "2            cap-surface   10.381429\n",
              "3      spore-print-color    7.822147\n",
              "4        gill-attachment    7.687676\n",
              "5              ring-type    7.154880\n",
              "6             veil-color    3.497186\n",
              "7                habitat    3.421084\n",
              "8             stem-color    3.012637\n",
              "9              veil-type    2.756413\n",
              "10             cap-shape    2.533932\n",
              "11             cap-color    2.359504\n",
              "12                season    2.304939\n",
              "13              has-ring    1.721226\n",
              "14          gill-spacing    1.721226\n",
              "15  does-bruise-or-bleed    1.721226\n",
              "16              gill-col    0.706916\n",
              "17          capdiameter-    0.113696\n",
              "18           stem-height    0.068669\n",
              "19            stem-width    0.029057"
            ],
            "text/html": [
              "\n",
              "  <div id=\"df-132ef963-901b-479c-955d-76360c0e847a\">\n",
              "    <div class=\"colab-df-container\">\n",
              "      <div>\n",
              "<style scoped>\n",
              "    .dataframe tbody tr th:only-of-type {\n",
              "        vertical-align: middle;\n",
              "    }\n",
              "\n",
              "    .dataframe tbody tr th {\n",
              "        vertical-align: top;\n",
              "    }\n",
              "\n",
              "    .dataframe thead th {\n",
              "        text-align: right;\n",
              "    }\n",
              "</style>\n",
              "<table border=\"1\" class=\"dataframe\">\n",
              "  <thead>\n",
              "    <tr style=\"text-align: right;\">\n",
              "      <th></th>\n",
              "      <th>feature</th>\n",
              "      <th>importance</th>\n",
              "    </tr>\n",
              "  </thead>\n",
              "  <tbody>\n",
              "    <tr>\n",
              "      <th>0</th>\n",
              "      <td>stem-root</td>\n",
              "      <td>14.402815</td>\n",
              "    </tr>\n",
              "    <tr>\n",
              "      <th>1</th>\n",
              "      <td>stem-surface</td>\n",
              "      <td>14.137716</td>\n",
              "    </tr>\n",
              "    <tr>\n",
              "      <th>2</th>\n",
              "      <td>cap-surface</td>\n",
              "      <td>10.381429</td>\n",
              "    </tr>\n",
              "    <tr>\n",
              "      <th>3</th>\n",
              "      <td>spore-print-color</td>\n",
              "      <td>7.822147</td>\n",
              "    </tr>\n",
              "    <tr>\n",
              "      <th>4</th>\n",
              "      <td>gill-attachment</td>\n",
              "      <td>7.687676</td>\n",
              "    </tr>\n",
              "    <tr>\n",
              "      <th>5</th>\n",
              "      <td>ring-type</td>\n",
              "      <td>7.154880</td>\n",
              "    </tr>\n",
              "    <tr>\n",
              "      <th>6</th>\n",
              "      <td>veil-color</td>\n",
              "      <td>3.497186</td>\n",
              "    </tr>\n",
              "    <tr>\n",
              "      <th>7</th>\n",
              "      <td>habitat</td>\n",
              "      <td>3.421084</td>\n",
              "    </tr>\n",
              "    <tr>\n",
              "      <th>8</th>\n",
              "      <td>stem-color</td>\n",
              "      <td>3.012637</td>\n",
              "    </tr>\n",
              "    <tr>\n",
              "      <th>9</th>\n",
              "      <td>veil-type</td>\n",
              "      <td>2.756413</td>\n",
              "    </tr>\n",
              "    <tr>\n",
              "      <th>10</th>\n",
              "      <td>cap-shape</td>\n",
              "      <td>2.533932</td>\n",
              "    </tr>\n",
              "    <tr>\n",
              "      <th>11</th>\n",
              "      <td>cap-color</td>\n",
              "      <td>2.359504</td>\n",
              "    </tr>\n",
              "    <tr>\n",
              "      <th>12</th>\n",
              "      <td>season</td>\n",
              "      <td>2.304939</td>\n",
              "    </tr>\n",
              "    <tr>\n",
              "      <th>13</th>\n",
              "      <td>has-ring</td>\n",
              "      <td>1.721226</td>\n",
              "    </tr>\n",
              "    <tr>\n",
              "      <th>14</th>\n",
              "      <td>gill-spacing</td>\n",
              "      <td>1.721226</td>\n",
              "    </tr>\n",
              "    <tr>\n",
              "      <th>15</th>\n",
              "      <td>does-bruise-or-bleed</td>\n",
              "      <td>1.721226</td>\n",
              "    </tr>\n",
              "    <tr>\n",
              "      <th>16</th>\n",
              "      <td>gill-col</td>\n",
              "      <td>0.706916</td>\n",
              "    </tr>\n",
              "    <tr>\n",
              "      <th>17</th>\n",
              "      <td>capdiameter-</td>\n",
              "      <td>0.113696</td>\n",
              "    </tr>\n",
              "    <tr>\n",
              "      <th>18</th>\n",
              "      <td>stem-height</td>\n",
              "      <td>0.068669</td>\n",
              "    </tr>\n",
              "    <tr>\n",
              "      <th>19</th>\n",
              "      <td>stem-width</td>\n",
              "      <td>0.029057</td>\n",
              "    </tr>\n",
              "  </tbody>\n",
              "</table>\n",
              "</div>\n",
              "      <button class=\"colab-df-convert\" onclick=\"convertToInteractive('df-132ef963-901b-479c-955d-76360c0e847a')\"\n",
              "              title=\"Convert this dataframe to an interactive table.\"\n",
              "              style=\"display:none;\">\n",
              "        \n",
              "  <svg xmlns=\"http://www.w3.org/2000/svg\" height=\"24px\"viewBox=\"0 0 24 24\"\n",
              "       width=\"24px\">\n",
              "    <path d=\"M0 0h24v24H0V0z\" fill=\"none\"/>\n",
              "    <path d=\"M18.56 5.44l.94 2.06.94-2.06 2.06-.94-2.06-.94-.94-2.06-.94 2.06-2.06.94zm-11 1L8.5 8.5l.94-2.06 2.06-.94-2.06-.94L8.5 2.5l-.94 2.06-2.06.94zm10 10l.94 2.06.94-2.06 2.06-.94-2.06-.94-.94-2.06-.94 2.06-2.06.94z\"/><path d=\"M17.41 7.96l-1.37-1.37c-.4-.4-.92-.59-1.43-.59-.52 0-1.04.2-1.43.59L10.3 9.45l-7.72 7.72c-.78.78-.78 2.05 0 2.83L4 21.41c.39.39.9.59 1.41.59.51 0 1.02-.2 1.41-.59l7.78-7.78 2.81-2.81c.8-.78.8-2.07 0-2.86zM5.41 20L4 18.59l7.72-7.72 1.47 1.35L5.41 20z\"/>\n",
              "  </svg>\n",
              "      </button>\n",
              "      \n",
              "  <style>\n",
              "    .colab-df-container {\n",
              "      display:flex;\n",
              "      flex-wrap:wrap;\n",
              "      gap: 12px;\n",
              "    }\n",
              "\n",
              "    .colab-df-convert {\n",
              "      background-color: #E8F0FE;\n",
              "      border: none;\n",
              "      border-radius: 50%;\n",
              "      cursor: pointer;\n",
              "      display: none;\n",
              "      fill: #1967D2;\n",
              "      height: 32px;\n",
              "      padding: 0 0 0 0;\n",
              "      width: 32px;\n",
              "    }\n",
              "\n",
              "    .colab-df-convert:hover {\n",
              "      background-color: #E2EBFA;\n",
              "      box-shadow: 0px 1px 2px rgba(60, 64, 67, 0.3), 0px 1px 3px 1px rgba(60, 64, 67, 0.15);\n",
              "      fill: #174EA6;\n",
              "    }\n",
              "\n",
              "    [theme=dark] .colab-df-convert {\n",
              "      background-color: #3B4455;\n",
              "      fill: #D2E3FC;\n",
              "    }\n",
              "\n",
              "    [theme=dark] .colab-df-convert:hover {\n",
              "      background-color: #434B5C;\n",
              "      box-shadow: 0px 1px 3px 1px rgba(0, 0, 0, 0.15);\n",
              "      filter: drop-shadow(0px 1px 2px rgba(0, 0, 0, 0.3));\n",
              "      fill: #FFFFFF;\n",
              "    }\n",
              "  </style>\n",
              "\n",
              "      <script>\n",
              "        const buttonEl =\n",
              "          document.querySelector('#df-132ef963-901b-479c-955d-76360c0e847a button.colab-df-convert');\n",
              "        buttonEl.style.display =\n",
              "          google.colab.kernel.accessAllowed ? 'block' : 'none';\n",
              "\n",
              "        async function convertToInteractive(key) {\n",
              "          const element = document.querySelector('#df-132ef963-901b-479c-955d-76360c0e847a');\n",
              "          const dataTable =\n",
              "            await google.colab.kernel.invokeFunction('convertToInteractive',\n",
              "                                                     [key], {});\n",
              "          if (!dataTable) return;\n",
              "\n",
              "          const docLinkHtml = 'Like what you see? Visit the ' +\n",
              "            '<a target=\"_blank\" href=https://colab.research.google.com/notebooks/data_table.ipynb>data table notebook</a>'\n",
              "            + ' to learn more about interactive tables.';\n",
              "          element.innerHTML = '';\n",
              "          dataTable['output_type'] = 'display_data';\n",
              "          await google.colab.output.renderOutput(dataTable, element);\n",
              "          const docLink = document.createElement('div');\n",
              "          docLink.innerHTML = docLinkHtml;\n",
              "          element.appendChild(docLink);\n",
              "        }\n",
              "      </script>\n",
              "    </div>\n",
              "  </div>\n",
              "  "
            ]
          },
          "metadata": {},
          "execution_count": 144
        }
      ]
    },
    {
      "cell_type": "code",
      "source": [
        "plt.figure(dpi=150)\n",
        "sns.barplot(data=df_feature_importance, x='importance', y='feature', color='green')"
      ],
      "metadata": {
        "colab": {
          "base_uri": "https://localhost:8080/"
        },
        "id": "5uCVgkpq1i2P",
        "outputId": "f8e9a16a-1d0a-43e6-cb90-44e4cadf8368"
      },
      "execution_count": null,
      "outputs": [
        {
          "output_type": "execute_result",
          "data": {
            "text/plain": [
              "<Axes: xlabel='importance', ylabel='feature'>"
            ]
          },
          "metadata": {},
          "execution_count": 145
        },
        {
          "output_type": "display_data",
          "data": {
            "text/plain": [
              "<Figure size 960x720 with 1 Axes>"
            ],
            "image/png": "[encoded data removed]"
          },
          "metadata": {}
        }
      ]
    },
    {
      "cell_type": "markdown",
      "source": [
        "# **COMPARACIÓN CON OTROS MODELOS**"
      ],
      "metadata": {
        "id": "z4B9KUZ6R3E8"
      }
    },
    {
      "cell_type": "code",
      "source": [
        "from sklearn.tree import DecisionTreeClassifier\n",
        "from sklearn.ensemble import RandomForestClassifier\n",
        "from xgboost import XGBClassifier\n",
        "\n",
        "model_dt = DecisionTreeClassifier(random_state=1).fit(X_train, y_train)\n",
        "probs_dt = model_dt.predict_proba(X_test)[:, 1]\n",
        "\n",
        "model_rf = RandomForestClassifier(random_state=1).fit(X_train, y_train)\n",
        "probs_rf = model_rf.predict_proba(X_test)[:, 1]\n",
        "\n",
        "model_xg = XGBClassifier(random_state=1).fit(X_train, y_train)\n",
        "probs_xg = model_xg.predict_proba(X_test)[:, 1]"
      ],
      "metadata": {
        "id": "Du3Y8ghuR6KE"
      },
      "execution_count": null,
      "outputs": []
    },
    {
      "cell_type": "code",
      "source": [
        "y_test = y_test.astype(int)"
      ],
      "metadata": {
        "id": "eLpjFqCNSyD1"
      },
      "execution_count": null,
      "outputs": []
    },
    {
      "cell_type": "code",
      "source": [
        "from sklearn.metrics import roc_auc_score, roc_curve\n",
        "\n",
        "fpr_lr, tpr_lr, thresholds_lr = roc_curve(y_test, y_pred)\n",
        "\n",
        "auc_dt = roc_auc_score(y_test, probs_dt)\n",
        "fpr_dt, tpr_dt, thresholds_dt = roc_curve(y_test, probs_dt)\n",
        "\n",
        "auc_rf = roc_auc_score(y_test, probs_rf)\n",
        "fpr_rf, tpr_rf, thresholds_rf = roc_curve(y_test, probs_rf)\n",
        "\n",
        "auc_xg = roc_auc_score(y_test, probs_xg)\n",
        "fpr_xg, tpr_xg, thresholds_xg = roc_curve(y_test, probs_xg)"
      ],
      "metadata": {
        "id": "cucKkYgSR_Z9"
      },
      "execution_count": null,
      "outputs": []
    },
    {
      "cell_type": "code",
      "source": [
        "import matplotlib.pyplot as plt\n",
        "plt.figure(figsize=(12, 7))\n",
        "plt.plot(fpr_lr, tpr_lr, label=f'AUC (Logistic Regression) = {auc:.2f}')\n",
        "plt.plot(fpr_dt, tpr_dt, label=f'AUC (Decision Tree) = {auc_dt:.2f}')\n",
        "plt.plot(fpr_rf, tpr_rf, label=f'AUC (Random Forests) = {auc_rf:.2f}')\n",
        "plt.plot(fpr_xg, tpr_xg, label=f'AUC (XGBoost) = {auc_xg:.2f}')\n",
        "plt.plot([0, 1], [0, 1], color='blue', linestyle='--', label='Baseline')\n",
        "plt.title('ROC Curve', size=20)\n",
        "plt.xlabel('False Positive Rate', size=14)\n",
        "plt.ylabel('True Positive Rate', size=14)\n",
        "plt.legend();"
      ],
      "metadata": {
        "colab": {
          "base_uri": "https://localhost:8080/",
          "height": 654
        },
        "id": "7kIH1WQBS3NF",
        "outputId": "96dc27d6-5a3d-4f57-d3c0-b3cd69afbb35"
      },
      "execution_count": null,
      "outputs": [
        {
          "output_type": "display_data",
          "data": {
            "text/plain": [
              "<Figure size 1200x700 with 1 Axes>"
            ],
            "image/png": "[encoded data removed]"
          },
          "metadata": {}
        }
      ]
    },
    {
      "cell_type": "code",
      "source": [
        "auc"
      ],
      "metadata": {
        "colab": {
          "base_uri": "https://localhost:8080/"
        },
        "id": "RQ_lnkNyelZ4",
        "outputId": "c4df8323-49d5-4caf-df80-a8bb2bcfbded"
      },
      "execution_count": null,
      "outputs": [
        {
          "output_type": "execute_result",
          "data": {
            "text/plain": [
              "0.8850708420549662"
            ]
          },
          "metadata": {},
          "execution_count": 150
        }
      ]
    },
    {
      "cell_type": "markdown",
      "source": [
        "# **GUARDO EL RESULTADO A CSV**"
      ],
      "metadata": {
        "id": "qYe_AQLpzhvH"
      }
    },
    {
      "cell_type": "code",
      "source": [
        "pd.DataFrame(y_pred).to_csv('/content/drive/MyDrive/test_LR.csv')"
      ],
      "metadata": {
        "id": "bO83sC9GxcuH"
      },
      "execution_count": null,
      "outputs": []
    },
    {
      "cell_type": "markdown",
      "source": [
        "(guardar el csv con predicciones para entregarlo después) https://drive.google.com/file/d/15Y92HwdPv3w6HaGUGNz7HLrQklDHNR_F/view?usp=sharing"
      ],
      "metadata": {
        "id": "8z1nX4aAFReU"
      }
    }
  ]
}